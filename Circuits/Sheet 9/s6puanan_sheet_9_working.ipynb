{
 "cells": [
  {
   "attachments": {},
   "cell_type": "markdown",
   "metadata": {},
   "source": [
    "# Exercises for Introduction to Quantum Computing"
   ]
  },
  {
   "attachments": {},
   "cell_type": "markdown",
   "metadata": {},
   "source": [
    "Name: Pugazharasu Anancia Devaneyan (s6puanan) <br />\n",
    "Matriculation number: 3300280"
   ]
  },
  {
   "attachments": {},
   "cell_type": "markdown",
   "metadata": {},
   "source": [
    "## 1. Iterative Phase Estimation (IPE)"
   ]
  },
  {
   "attachments": {},
   "cell_type": "markdown",
   "metadata": {},
   "source": [
    "The general Trotter formula for two Hermitian operators $A,B$ is given by \n",
    "$$\\lim _{n \\rightarrow \\infty}\\left(e^{i A t / n} e^{i B t / n}\\right)^n=e^{i(A+B) t}$$"
   ]
  },
  {
   "attachments": {},
   "cell_type": "markdown",
   "metadata": {},
   "source": [
    "a) We shall attempt to prove this. Let's start from the fact that the exponential function can be written as Taylor expansion of the form,\n",
    "$$e^x=\\sum_{n=0}^{\\infty} \\frac{x^n}{n !}$$\n",
    "Thus, we have,\n",
    "$$e^{i \\hat{A} \\frac{t}{n}}=\\hat{I}+\\frac{1}{n} i \\hat{A} t+\\mathcal{O}\\left(\\frac{1}{n^2}\\right)$$\n",
    "We can thus write down the terms inside the bracket as,\n",
    "$$e^{i \\hat{A} \\frac{t}{n}} e^{i \\hat{B} \\frac{t}{n}} = \\hat{I}+\\frac{1}{n} i(\\hat{A}+\\hat{B}) t+\\mathcal{O}\\left(\\frac{1}{n^2}\\right)$$\n",
    "Now to raise it to the $n^{th}$ power, we can use the Binomial formula,\n",
    "$$(x+y)^n=\\sum_{k=0}^n \\frac{n !}{k !(n-k) !} x^{n-k} y^k$$\n",
    "we get,\n",
    "$$\\left(e^{i \\hat{A} \\frac{t}{n}} e^{i \\hat{B} \\frac{t}{n}}\\right)^n = \\sum_{k=0}^n \\frac{n !}{k !(n-k) !} \\frac{1}{n^k}(i(\\hat{A}+\\hat{B}) t)^k$$\n",
    "if we take $k$ to be constant, we can then take the limit,\n",
    "$$\\lim _{n \\rightarrow \\infty}\\left(e^{i \\hat{A} \\frac{t}{n}} e^{i \\hat{B} \\frac{t}{n}}\\right)^n = \\lim _{n \\rightarrow \\infty}\\sum_{k=0}^n \\frac{n !}{k !(n-k) !} \\frac{1}{n^k}(i(\\hat{A}+\\hat{B}) t)^k$$\n",
    "Taking this limit, we get \n",
    "$$\\left(e^{i \\hat{A} \\frac{t}{n}} e^{i \\hat{B} \\frac{t}{n}}\\right)^n \\simeq \\sum_{k=0}^n \\frac{(i(\\hat{A}+\\hat{B}) t)^k}{k !}+\\mathcal{O}\\left(\\frac{1}{n}\\right) \\simeq e^{i(\\hat{A}+\\hat{B}) t}$$\n",
    "The RHS can be written down as an exponential as we saw earlier, thus we have,\n",
    "$$\\left(e^{i \\hat{A} \\frac{t}{n}} e^{i \\hat{B} \\frac{t}{n}}\\right)^n \\simeq e^{i(\\hat{A}+\\hat{B}) t}$$"
   ]
  },
  {
   "attachments": {},
   "cell_type": "markdown",
   "metadata": {},
   "source": [
    "b) We are to prove,\n",
    "$$S_1(\\delta t)=e^{i A \\delta t} \\cdot e^{i B \\delta t}=e^{i(A+B) \\delta t}+\\mathcal{O}\\left(\\delta t^2\\right)$$\n",
    "for this we simply Taylor expand the LHS upto first-order,\n",
    "$$e^{i A \\delta t} \\cdot e^{i B \\delta t} = \\left(\\mathbb{I} + A \\delta t\\right) \\left(\\mathbb{I} + B \\delta t\\right)$$\n",
    "$$e^{i A \\delta t} \\cdot e^{i B \\delta t} = \\mathbb{I} + (A+B) \\delta t + \\mathcal{O}(\\delta t^{2})$$\n",
    "and compare it with the first order Taylor expansion of the RHS,\n",
    "$$e^{i (A+B) \\delta t} = \\mathbb{I} + (A+B) \\delta t  + \\mathcal{O}(\\delta t^{2})$$\n",
    "Thus,\n",
    "$$S_1(\\delta t)=e^{i A \\delta t} \\cdot e^{i B \\delta t}=e^{i(A+B) \\delta t}+\\mathcal{O}\\left(\\delta t^2\\right)$$\n",
    "Q.E.D"
   ]
  },
  {
   "attachments": {},
   "cell_type": "markdown",
   "metadata": {},
   "source": [
    "c) To prove the second order Suzuki-Trotter approximation, we simply need to expand the exponentials upto second order,\n",
    "$$S_2(\\delta t)=e^{i A \\delta t / 2} \\cdot e^{i B \\delta t} \\cdot e^{i A \\delta t / 2}$$\n",
    "$$S_2(\\delta t) = \\left( \\mathbb{I} + \\frac{i \\delta t}{2}A - \\frac{\\delta t^{2}}{2!.4}A^{2} \\right)\\left(\\mathbb{I} + i \\delta t B - \\frac{\\delta t^{2}}{2} B^{2} \\right) \\left(\\mathbb{I} + \\frac{i \\delta t}{2}A - \\frac{\\delta t^{2}}{2!.4}A^{2}\\right)$$\n",
    "Ignoring terms of order $\\mathcal{O}(\\delta t^{4})$, we have\n",
    "$$S_2(\\delta t) = \\mathbb{I} + i \\delta t A + i \\delta t B + \\frac{1}{2} \\delta t^{2}(A^{2} + B^{2} + AB + BA) + \\mathcal{O}(\\delta t^{3})$$\n",
    "The RHS looks like the Taylor expansion of an exponential upto second order, thus, we have,\n",
    "$$S_2(\\delta t) = e^{i(A+B) \\delta t} + \\mathcal{O}(\\delta t^{3})$$\n",
    "Q.E.D"
   ]
  },
  {
   "attachments": {},
   "cell_type": "markdown",
   "metadata": {},
   "source": [
    "d) We are to compute $s$ in,\n",
    "$$\n",
    "S_4(\\delta t) = S_2(s \\delta t) S_2((1-2 s) \\delta t) S_2(s \\delta t)=e^{i(A+B) \\delta t}+\\mathcal{O}\\left(\\delta t^5\\right)\n",
    "$$\n",
    "We know what $S_{2}(\\delta t)$ is can be written as\n",
    "$$S_2(\\delta t)=e^{i(A+B) \\delta t+R_3 \\delta t^3+\\mathcal{O}\\left(\\delta t^4\\right)}=e^{i(A+B) \\delta t} e^{R_3 \\delta t^3}+\\mathcal{O}\\left(\\delta t^4\\right)$$\n",
    "for an operator $R_{3}$. Thus, we first expand out $S_{4}(\\delta t)$,\n",
    "$$S_{4}(\\delta t) = e^{i(A+B) \\delta t}e^{i R_{3}[2 s^3+(1-2 s)^3] \\delta t^{3}} + \\mathcal{O}(\\delta t^{5})$$\n",
    "Comparing it with the RHS of first equation we have,\n",
    "$$2 s^3+(1-2 s)^3=1$$\n",
    "Thus, \n",
    "$$S = [0,-1]$$"
   ]
  },
  {
   "attachments": {},
   "cell_type": "markdown",
   "metadata": {},
   "source": [
    "## 2. Quantum simulation"
   ]
  },
  {
   "attachments": {},
   "cell_type": "markdown",
   "metadata": {},
   "source": [
    "We have the operator\n",
    "$$H=\\alpha Z+\\beta X$$"
   ]
  },
  {
   "attachments": {},
   "cell_type": "markdown",
   "metadata": {},
   "source": [
    "a) The Hamiltonian has the eigenvalues,\n",
    "$$\\lambda = \\pm \\sqrt{\\alpha^{2} + \\beta^{2}}$$"
   ]
  },
  {
   "attachments": {},
   "cell_type": "markdown",
   "metadata": {},
   "source": [
    "b) For the Hamiltonian to be unitary,it must satisfy the condition,\n",
    "$$HH^{\\dagger} = \\mathbb{I}$$\n",
    "The Pauli matrices are Hermitian, \n",
    "$$Z = Z^{\\dagger}$$\n",
    "$$X = X^{\\dagger}$$\n",
    "thus we have\n",
    "$$(\\alpha Z+\\beta X)(\\alpha^{*} Z+\\beta^{*} X) = \\mathbb{I}$$\n",
    "$$\\alpha^{2}\\mathbb{I} + \\beta^{2} \\mathbb{I} -i \\beta \\alpha Y  + i\\alpha\\beta Y = \\mathbb{I}$$\n",
    "$$\\alpha^{2}\\mathbb{I} + \\beta^{2} \\mathbb{I} = \\mathbb{I}$$\n",
    "in matrix form, this can be written as,\n",
    "$$\\begin{pmatrix} \n",
    "\\alpha^{2} + \\beta^{2} & 0 \\\\\n",
    "0 & \\alpha^{2} + \\beta^{2}\n",
    "\\end{pmatrix} = \\begin{pmatrix}\n",
    "1 & 0 \\\\\n",
    "0 & 1\n",
    "\\end{pmatrix}$$\n",
    "Thus, equating the individual matrix entries we have,\n",
    "$$\\alpha^{2} + \\beta^{2} = 1$$\n",
    "Since $\\alpha, \\beta \\in \\mathbb{R}$, thus we can have the following values for $\\alpha$ and $\\beta$\n",
    "$$\\alpha = \\frac{1}{\\sqrt{2}}, \\beta = \\frac{1}{\\sqrt{2}}$$"
   ]
  },
  {
   "attachments": {},
   "cell_type": "markdown",
   "metadata": {},
   "source": [
    "c) We wish to write down exact implementation of the operator\n",
    "$$U = e^{iHt}$$\n",
    "$$U = e^{it(\\alpha Z+\\beta X)} = e^{it\\alpha Z}e^{it\\beta X}$$\n",
    "We know that the exponentials of Pauli matrices can be written as,\n",
    "$$e^{i k \\sigma_{n}} =  \\mathbb{I} \\cdot \\cos (k)+i \\sigma_{n} \\cdot \\sin (k)$$ \n",
    "where $\\sigma_{n}$ is a Pauli matrix and $k$ is some real number. This holds as we can simply Taylor expand the exponential,\n",
    "$$\n",
    "\n",
    "$$\n",
    "and since the Pauli matrices square to $\\mathbb{I}$, we have,\n",
    "$$\n",
    "\n",
    "$$\n",
    "this we can see are simply\n",
    "\n",
    "Thus, for our operator $U$, we have\n",
    "$$\n",
    "U = (\\mathbb{I} \\cdot \\cos (\\alpha t)+i Z \\cdot \\sin (\\alpha t)) (\\mathbb{I} \\cdot \\cos (\\beta t)+i X \\cdot \\sin (\\beta t))\n",
    "$$\n",
    "This can be multiplied out to give,\n",
    "$$\n",
    "U = \\cos (\\alpha t) \\cos (\\beta t) \\mathbb{I} + i \\sin (\\alpha t)\\cos (\\beta t)  Z + i \\sin (\\beta t) \\cos (\\alpha t) X - i \\sin (\\alpha t) \\sin (\\beta t) Y\n",
    "$$\n",
    "This is the exact implementation of the unitary operator."
   ]
  }
 ],
 "metadata": {
  "kernelspec": {
   "display_name": "Python 3 (ipykernel)",
   "language": "python",
   "name": "python3"
  },
  "language_info": {
   "codemirror_mode": {
    "name": "ipython",
    "version": 3
   },
   "file_extension": ".py",
   "mimetype": "text/x-python",
   "name": "python",
   "nbconvert_exporter": "python",
   "pygments_lexer": "ipython3",
   "version": "3.9.13"
  }
 },
 "nbformat": 4,
 "nbformat_minor": 2
}
