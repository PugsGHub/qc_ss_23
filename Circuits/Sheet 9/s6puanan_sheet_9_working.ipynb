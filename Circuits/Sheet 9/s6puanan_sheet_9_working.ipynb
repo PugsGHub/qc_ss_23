{
 "cells": [
  {
   "attachments": {},
   "cell_type": "markdown",
   "metadata": {},
   "source": [
    "# Exercises for Introduction to Quantum Computing"
   ]
  },
  {
   "attachments": {},
   "cell_type": "markdown",
   "metadata": {},
   "source": [
    "Name: Pugazharasu Anancia Devaneyan (s6puanan) <br />\n",
    "Matriculation number: 3300280"
   ]
  },
  {
   "attachments": {},
   "cell_type": "markdown",
   "metadata": {},
   "source": [
    "## 1. Iterative Phase Estimation (IPE)"
   ]
  },
  {
   "attachments": {},
   "cell_type": "markdown",
   "metadata": {},
   "source": [
    "a) We are to compute the probability of measuring $\\phi_m$ correctly, that is the probability that the outcome of the measurement is $x_m=\\phi_m$ after the first iteration $k=1$. Right before the measurement, the state of the system is,\n",
    "$$\\frac{1}{2}\\left[\\left(1+e^{i 2 \\pi \\phi}\\right)|0\\rangle+\\left(1-e^{i 2 \\pi \\phi}\\right)|1\\rangle\\right]|u\\rangle$$\n",
    "this gives the probability \n",
    "$$P_0=\\cos ^2(\\pi \\frac{\\delta}{2})$$\n",
    "to measure $phi_m$."
   ]
  },
  {
   "attachments": {},
   "cell_type": "markdown",
   "metadata": {},
   "source": [
    "b) Assuming that was measured correctly after the first iteration, then the probability of measuring for $k=2$ is given by,\n",
    "$$\\cos ^2(\\pi \\delta / 4)$$"
   ]
  },
  {
   "attachments": {},
   "cell_type": "markdown",
   "metadata": {},
   "source": [
    "c) From (a) and (b) we saw that the probability to measure is ,\n",
    "$$\\cos ^2(\\pi \\delta / 2)$$\n",
    "and if was measured correctly, the probability to measure for $k=2$ is give by\n",
    "$$\\cos ^2(\\pi \\delta / 4)$$\n",
    "Thus, the conditional probability for each bit to be measured correctly individually is,\n",
    "$$P_i=\\cos ^2\\left(\\pi 2^{k-m-1} \\delta\\right)$$\n",
    "The total probability is the product of this,\n",
    "$$P(\\delta)=\\prod_{i=1}^m P_i$$\n",
    "The hint in the question reads as,\n",
    "$$\\prod_{k=1}^m \\cos ^2\\left(\\frac{\\alpha}{2^k}\\right)=\\frac{\\sin ^2(\\alpha)}{2^{2 m} \\sin ^2\\left(2^{-m} \\alpha\\right)}$$\n",
    "Thus, we have,\n",
    "$$P(\\delta)=\\frac{\\sin ^2(\\pi \\delta)}{2^{2 m} \\sin ^2\\left(\\pi 2^{-m} \\delta\\right)}$$"
   ]
  },
  {
   "attachments": {},
   "cell_type": "markdown",
   "metadata": {},
   "source": [
    "d)  Using the formula we derived from (c), the probability of measuring \n",
    "$$\\hat{\\phi}^{\\prime}=\\hat{\\phi}+2^{-m}=0 . \\phi_1 \\ldots \\phi_m+2^{-m}$$\n",
    "is simply, \n",
    "$$P(1- \\delta)$$"
   ]
  },
  {
   "attachments": {},
   "cell_type": "markdown",
   "metadata": {},
   "source": [
    "e) Simillarly, the probability of measuring a phase which differs from $\\phi$ by less than $2^{-m}$ implies thgat we accept both  $\\hat{\\phi}+2^{-m}$ amd $\\hat{\\phi}$ to be the correct phase. Thus, the success probability is simply given by,\n",
    "$$P(\\delta) + P(1-\\delta)$$"
   ]
  },
  {
   "attachments": {},
   "cell_type": "markdown",
   "metadata": {},
   "source": [
    "f) We are to compute,\n",
    "$$min \\left[ \\lim _{m \\rightarrow \\infty} P_0(\\delta=1 / 2) \\right]$$\n",
    "we know that like $P$, $P_0$ is monotonically decreasing in $m$ and in the limit of $m \\rightarrow \\infty$, it's minimum is reached for $\\delta = \\frac{1}{2}$. This limit is takes the value,\n",
    "$$\\frac{8}{\\pi^{2}}$$\n",
    "This can be seen by computing $P(0.5)$ and then using the formula from (e) and computing the limit."
   ]
  }
 ],
 "metadata": {
  "kernelspec": {
   "display_name": "Python 3 (ipykernel)",
   "language": "python",
   "name": "python3"
  },
  "language_info": {
   "codemirror_mode": {
    "name": "ipython",
    "version": 3
   },
   "file_extension": ".py",
   "mimetype": "text/x-python",
   "name": "python",
   "nbconvert_exporter": "python",
   "pygments_lexer": "ipython3",
   "version": "3.9.13"
  }
 },
 "nbformat": 4,
 "nbformat_minor": 2
}
