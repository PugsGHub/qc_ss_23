{
 "cells": [
  {
   "attachments": {},
   "cell_type": "markdown",
   "metadata": {},
   "source": [
    "# Exercises for Introduction to Quantum Computing"
   ]
  },
  {
   "attachments": {},
   "cell_type": "markdown",
   "metadata": {},
   "source": [
    "Name: Pugazharasu Anancia Devaneyan (s6puanan) <br />\n",
    "Matriculation number: 3300280"
   ]
  },
  {
   "attachments": {},
   "cell_type": "markdown",
   "metadata": {},
   "source": [
    "## 1. Trotter Formula"
   ]
  },
  {
   "attachments": {},
   "cell_type": "markdown",
   "metadata": {},
   "source": [
    "The general Trotter formula for two Hermitian operators $A,B$ is given by \n",
    "$$\\lim _{n \\rightarrow \\infty}\\left(e^{i A t / n} e^{i B t / n}\\right)^n=e^{i(A+B) t}$$"
   ]
  },
  {
   "attachments": {},
   "cell_type": "markdown",
   "metadata": {},
   "source": [
    "a) We shall attempt to prove this. Let's start from the fact that the exponential function can be written as Taylor expansion of the form,\n",
    "$$e^x=\\sum_{n=0}^{\\infty} \\frac{x^n}{n !}$$\n",
    "Thus, we have,\n",
    "$$e^{i \\hat{A} \\frac{t}{n}}=\\hat{I}+\\frac{1}{n} i \\hat{A} t+\\mathcal{O}\\left(\\frac{1}{n^2}\\right)$$\n",
    "We can thus write down the terms inside the bracket as,\n",
    "$$e^{i \\hat{A} \\frac{t}{n}} e^{i \\hat{B} \\frac{t}{n}} = \\hat{I}+\\frac{1}{n} i(\\hat{A}+\\hat{B}) t+\\mathcal{O}\\left(\\frac{1}{n^2}\\right)$$\n",
    "Now to raise it to the $n^{th}$ power, we can use the Binomial formula,\n",
    "$$(x+y)^n=\\sum_{k=0}^n \\frac{n !}{k !(n-k) !} x^{n-k} y^k$$\n",
    "we get,\n",
    "$$\\left(e^{i \\hat{A} \\frac{t}{n}} e^{i \\hat{B} \\frac{t}{n}}\\right)^n = \\sum_{k=0}^n \\frac{n !}{k !(n-k) !} \\frac{1}{n^k}(i(\\hat{A}+\\hat{B}) t)^k$$\n",
    "if we take $k$ to be constant, we can then take the limit,\n",
    "$$\\lim _{n \\rightarrow \\infty}\\left(e^{i \\hat{A} \\frac{t}{n}} e^{i \\hat{B} \\frac{t}{n}}\\right)^n = \\lim _{n \\rightarrow \\infty}\\sum_{k=0}^n \\frac{n !}{k !(n-k) !} \\frac{1}{n^k}(i(\\hat{A}+\\hat{B}) t)^k$$\n",
    "Taking this limit, we get \n",
    "$$\\left(e^{i \\hat{A} \\frac{t}{n}} e^{i \\hat{B} \\frac{t}{n}}\\right)^n \\simeq \\sum_{k=0}^n \\frac{(i(\\hat{A}+\\hat{B}) t)^k}{k !}+\\mathcal{O}\\left(\\frac{1}{n}\\right) \\simeq e^{i(\\hat{A}+\\hat{B}) t}$$\n",
    "The RHS can be written down as an exponential as we saw earlier, thus we have,\n",
    "$$\\left(e^{i \\hat{A} \\frac{t}{n}} e^{i \\hat{B} \\frac{t}{n}}\\right)^n \\simeq e^{i(\\hat{A}+\\hat{B}) t}$$"
   ]
  },
  {
   "attachments": {},
   "cell_type": "markdown",
   "metadata": {},
   "source": [
    "b) "
   ]
  },
  {
   "attachments": {},
   "cell_type": "markdown",
   "metadata": {},
   "source": [
    "d) We are to compute $s$ in,\n",
    "$$\n",
    "\\begin{align} \n",
    "S_4(\\delta t) &= S_2(s \\delta t) S_2((1-2 s) \\delta t) S_2(s \\delta t)=e^{i(A+B) \\delta t}+\\mathcal{O}\\left(\\delta t^5\\right) \\label{eq:s4} \\\\\n",
    "\\begin{align}\n",
    "$$\n",
    "We know what $S_{2}(\\delta t)$ is can be written as\n",
    "$$S_{4}(\\delta t)=e^{i(A+B) \\delta t+R_3 \\delta t^3+\\mathcal{O}\\left(\\delta t^4\\right)}=e^{i(A+B) \\delta t} e^{R_3 \\delta t^3}+\\mathcal{O}\\left(\\delta t^4\\right)$$\n",
    "for an operator $R_{3}$. Thus, we first expand out $S_{4}(\\delta t)$,\n",
    "$$S_{4}(\\delta t) = $$\n",
    "Comparing the LHS of equation (\\ref{eq:s4}) and RHS of equation (\\ref{eq:s4_ex}), we have,\n"
   ]
  },
  {
   "attachments": {},
   "cell_type": "markdown",
   "metadata": {},
   "source": [
    "## 2. Quantum simulation"
   ]
  },
  {
   "attachments": {},
   "cell_type": "markdown",
   "metadata": {},
   "source": [
    "We have the operator\n",
    "$$H=\\alpha Z+\\beta X$$"
   ]
  },
  {
   "attachments": {},
   "cell_type": "markdown",
   "metadata": {},
   "source": [
    "a) The Hamiltonian has the eigenvalues,\n",
    "$$\\lambda = \\pm \\sqrt{\\alpha^{2} + \\beta^{2}}$$"
   ]
  },
  {
   "attachments": {},
   "cell_type": "markdown",
   "metadata": {},
   "source": [
    "b) For the Hamiltonian to be unitary,it must satisfy the condition,\n",
    "$$HH^{\\dagger} = \\mathbb{I}$$\n",
    "The Pauli matrices are Hermitian, \n",
    "$$Z = Z^{\\dagger}$$\n",
    "$$X = X^{\\dagger}$$\n",
    "thus we have\n",
    "$$(\\alpha Z+\\beta X)(\\alpha^{*} Z+\\beta^{*} X) = \\mathbb{I}$$\n",
    "$$\\alpha^{2}\\mathbb{I} + \\beta^{2} \\mathbb{I} -i \\beta \\alpha Y  + i\\alpha\\beta Y = \\mathbb{I}$$\n",
    "$$\\alpha^{2}\\mathbb{I} + \\beta^{2} \\mathbb{I} = \\mathbb{I}$$\n",
    "in matrix form, this can be written as,\n",
    "$$\\begin{pmatrix} \n",
    "\\alpha^{2} + \\beta^{2} & 0 \\\\\n",
    "0 & \\alpha^{2} + \\beta^{2}\n",
    "\\end{pmatrix} = \\begin{pmatrix}\n",
    "1 & 0 \\\\\n",
    "0 & 1\n",
    "\\end{pmatrix}$$\n",
    "Thus, equating the individual matrix entries we have,\n",
    "$$\\alpha^{2} + \\beta^{2} = 1$$\n",
    "Since $\\alpha, \\beta \\in \\mathbb{R}$, thus we can have the following values for $\\alpha$ and $\\beta$\n",
    "$$\\alpha = \\frac{1}{\\sqrt{2}}, \\beta = \\frac{1}{\\sqrt{2}}$$"
   ]
  },
  {
   "attachments": {},
   "cell_type": "markdown",
   "metadata": {},
   "source": [
    "c) We wish to write down exact implementation of the operator\n",
    "$$$$\n",
    "$$ = e^{it(\\alpha Z+\\beta X)} = e^{it\\alpha Z}e^{it\\beta X}$$\n",
    "using the first order Suzuki-Trotter"
   ]
  }
 ],
 "metadata": {
  "kernelspec": {
   "display_name": "Python 3 (ipykernel)",
   "language": "python",
   "name": "python3"
  },
  "language_info": {
   "codemirror_mode": {
    "name": "ipython",
    "version": 3
   },
   "file_extension": ".py",
   "mimetype": "text/x-python",
   "name": "python",
   "nbconvert_exporter": "python",
   "pygments_lexer": "ipython3",
   "version": "3.9.13"
  }
 },
 "nbformat": 4,
 "nbformat_minor": 2
}
