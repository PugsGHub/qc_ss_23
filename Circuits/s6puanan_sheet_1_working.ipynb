{
 "cells": [
  {
   "attachments": {},
   "cell_type": "markdown",
   "metadata": {},
   "source": [
    "# Exercises for Introduction to Quantum Computing"
   ]
  },
  {
   "attachments": {},
   "cell_type": "markdown",
   "metadata": {},
   "source": [
    "Name: Pugazharasu Anancia Devaneyan (s6puanan) <br />\n",
    "Matriculation number: 3300280"
   ]
  },
  {
   "attachments": {},
   "cell_type": "markdown",
   "metadata": {},
   "source": [
    "## 1. Installation of Qiskit"
   ]
  },
  {
   "cell_type": "code",
   "execution_count": 1,
   "metadata": {},
   "outputs": [
    {
     "name": "stdout",
     "output_type": "stream",
     "text": [
      "Requirement already satisfied: qiskit in c:\\users\\pugaz\\anaconda3\\lib\\site-packages (0.42.1)\n",
      "Requirement already satisfied: qiskit-aer==0.12.0 in c:\\users\\pugaz\\anaconda3\\lib\\site-packages (from qiskit) (0.12.0)\n",
      "Requirement already satisfied: qiskit-terra==0.23.3 in c:\\users\\pugaz\\anaconda3\\lib\\site-packages (from qiskit) (0.23.3)\n",
      "Requirement already satisfied: qiskit-ibmq-provider==0.20.2 in c:\\users\\pugaz\\anaconda3\\lib\\site-packages (from qiskit) (0.20.2)\n",
      "Requirement already satisfied: scipy>=1.0 in c:\\users\\pugaz\\anaconda3\\lib\\site-packages (from qiskit-aer==0.12.0->qiskit) (1.9.1)\n",
      "Requirement already satisfied: numpy>=1.16.3 in c:\\users\\pugaz\\anaconda3\\lib\\site-packages (from qiskit-aer==0.12.0->qiskit) (1.21.5)\n",
      "Requirement already satisfied: websocket-client>=1.5.1 in c:\\users\\pugaz\\anaconda3\\lib\\site-packages (from qiskit-ibmq-provider==0.20.2->qiskit) (1.5.1)\n",
      "Requirement already satisfied: websockets>=10.0 in c:\\users\\pugaz\\anaconda3\\lib\\site-packages (from qiskit-ibmq-provider==0.20.2->qiskit) (10.4)\n",
      "Requirement already satisfied: urllib3>=1.21.1 in c:\\users\\pugaz\\anaconda3\\lib\\site-packages (from qiskit-ibmq-provider==0.20.2->qiskit) (1.26.11)\n",
      "Requirement already satisfied: python-dateutil>=2.8.0 in c:\\users\\pugaz\\anaconda3\\lib\\site-packages (from qiskit-ibmq-provider==0.20.2->qiskit) (2.8.2)\n",
      "Requirement already satisfied: requests>=2.19 in c:\\users\\pugaz\\anaconda3\\lib\\site-packages (from qiskit-ibmq-provider==0.20.2->qiskit) (2.28.1)\n",
      "Requirement already satisfied: requests-ntlm<=1.1.0 in c:\\users\\pugaz\\anaconda3\\lib\\site-packages (from qiskit-ibmq-provider==0.20.2->qiskit) (1.1.0)\n",
      "Requirement already satisfied: rustworkx>=0.12.0 in c:\\users\\pugaz\\anaconda3\\lib\\site-packages (from qiskit-terra==0.23.3->qiskit) (0.12.0)\n",
      "Requirement already satisfied: psutil>=5 in c:\\users\\pugaz\\anaconda3\\lib\\site-packages (from qiskit-terra==0.23.3->qiskit) (5.9.0)\n",
      "Requirement already satisfied: sympy>=1.3 in c:\\users\\pugaz\\anaconda3\\lib\\site-packages (from qiskit-terra==0.23.3->qiskit) (1.10.1)\n",
      "Requirement already satisfied: ply>=3.10 in c:\\users\\pugaz\\anaconda3\\lib\\site-packages (from qiskit-terra==0.23.3->qiskit) (3.11)\n",
      "Requirement already satisfied: stevedore>=3.0.0 in c:\\users\\pugaz\\anaconda3\\lib\\site-packages (from qiskit-terra==0.23.3->qiskit) (4.1.0)\n",
      "Requirement already satisfied: dill>=0.3 in c:\\users\\pugaz\\anaconda3\\lib\\site-packages (from qiskit-terra==0.23.3->qiskit) (0.3.4)\n",
      "Requirement already satisfied: six>=1.5 in c:\\users\\pugaz\\anaconda3\\lib\\site-packages (from python-dateutil>=2.8.0->qiskit-ibmq-provider==0.20.2->qiskit) (1.16.0)\n",
      "Requirement already satisfied: idna<4,>=2.5 in c:\\users\\pugaz\\anaconda3\\lib\\site-packages (from requests>=2.19->qiskit-ibmq-provider==0.20.2->qiskit) (3.3)\n",
      "Requirement already satisfied: charset-normalizer<3,>=2 in c:\\users\\pugaz\\anaconda3\\lib\\site-packages (from requests>=2.19->qiskit-ibmq-provider==0.20.2->qiskit) (2.0.4)\n",
      "Requirement already satisfied: certifi>=2017.4.17 in c:\\users\\pugaz\\anaconda3\\lib\\site-packages (from requests>=2.19->qiskit-ibmq-provider==0.20.2->qiskit) (2022.9.14)\n",
      "Requirement already satisfied: cryptography>=1.3 in c:\\users\\pugaz\\anaconda3\\lib\\site-packages (from requests-ntlm<=1.1.0->qiskit-ibmq-provider==0.20.2->qiskit) (37.0.1)\n",
      "Requirement already satisfied: ntlm-auth>=1.0.2 in c:\\users\\pugaz\\anaconda3\\lib\\site-packages (from requests-ntlm<=1.1.0->qiskit-ibmq-provider==0.20.2->qiskit) (1.5.0)\n",
      "Requirement already satisfied: pbr!=2.1.0,>=2.0.0 in c:\\users\\pugaz\\anaconda3\\lib\\site-packages (from stevedore>=3.0.0->qiskit-terra==0.23.3->qiskit) (5.11.0)\n",
      "Requirement already satisfied: mpmath>=0.19 in c:\\users\\pugaz\\anaconda3\\lib\\site-packages (from sympy>=1.3->qiskit-terra==0.23.3->qiskit) (1.2.1)\n",
      "Requirement already satisfied: cffi>=1.12 in c:\\users\\pugaz\\anaconda3\\lib\\site-packages (from cryptography>=1.3->requests-ntlm<=1.1.0->qiskit-ibmq-provider==0.20.2->qiskit) (1.15.1)\n",
      "Requirement already satisfied: pycparser in c:\\users\\pugaz\\anaconda3\\lib\\site-packages (from cffi>=1.12->cryptography>=1.3->requests-ntlm<=1.1.0->qiskit-ibmq-provider==0.20.2->qiskit) (2.21)\n",
      "Note: you may need to restart the kernel to use updated packages.\n"
     ]
    }
   ],
   "source": [
    "%pip install qiskit"
   ]
  },
  {
   "cell_type": "code",
   "execution_count": 1,
   "metadata": {},
   "outputs": [],
   "source": [
    "import numpy as np\n",
    "import qiskit as qi\n",
    "from qiskit import IBMQ, Aer\n",
    "from qiskit.providers.ibmq import least_busy\n",
    "from qiskit import QuantumCircuit, transpile\n",
    "\n",
    "from qiskit.visualization import plot_histogram"
   ]
  },
  {
   "cell_type": "code",
   "execution_count": 1,
   "metadata": {},
   "outputs": [],
   "source": [
    "from sympy import *"
   ]
  },
  {
   "attachments": {},
   "cell_type": "markdown",
   "metadata": {},
   "source": [
    "## 2. Quantum Gates"
   ]
  },
  {
   "cell_type": "code",
   "execution_count": 10,
   "metadata": {},
   "outputs": [],
   "source": [
    "two = 1/np.sqrt(2)"
   ]
  },
  {
   "cell_type": "code",
   "execution_count": 13,
   "metadata": {},
   "outputs": [],
   "source": [
    "A = Matrix([[1, 0, 0, 0], [0, -1, 0, 0], [0, 0, two, two],[0, 0, two, -two]])"
   ]
  },
  {
   "cell_type": "code",
   "execution_count": 9,
   "metadata": {},
   "outputs": [],
   "source": [
    "a, b, c, d = symbols('a b c d')\n",
    "state_vector = Matrix([[a], [b], [c], [d]])"
   ]
  },
  {
   "cell_type": "code",
   "execution_count": 14,
   "metadata": {},
   "outputs": [
    {
     "data": {
      "text/latex": [
       "$\\displaystyle \\left[\\begin{matrix}a\\\\- b\\\\0.707106781186547 c + 0.707106781186547 d\\\\0.707106781186547 c - 0.707106781186547 d\\end{matrix}\\right]$"
      ],
      "text/plain": [
       "Matrix([\n",
       "[                                        a],\n",
       "[                                       -b],\n",
       "[0.707106781186547*c + 0.707106781186547*d],\n",
       "[0.707106781186547*c - 0.707106781186547*d]])"
      ]
     },
     "metadata": {},
     "output_type": "display_data"
    }
   ],
   "source": [
    "display(A * state_vector)"
   ]
  },
  {
   "cell_type": "code",
   "execution_count": 6,
   "metadata": {},
   "outputs": [
    {
     "data": {
      "image/png": "[encoded data removed]",
      "text/plain": [
       "<Figure size 203.683x200.667 with 1 Axes>"
      ]
     },
     "execution_count": 6,
     "metadata": {},
     "output_type": "execute_result"
    }
   ],
   "source": [
    "circ_1 = QuantumCircuit(2)\n",
    "circ_1.z(0)\n",
    "circ_1.h(1)\n",
    "circ_1.draw('mpl')"
   ]
  },
  {
   "attachments": {},
   "cell_type": "markdown",
   "metadata": {},
   "source": [
    "In the standard computational basis, this two-qubit system can be written as,\n",
    "$$\\begin{pmatrix}\n",
    "1 & 0 & 0 & 0 \\\\\n",
    "0 & -1 & 0 & 0 \\\\\n",
    "0 & 0 & \\frac{1}{\\sqrt{2}} & \\frac{1}{\\sqrt{2}}\\\\\n",
    "0 & 0 & \\frac{1}{\\sqrt{2}} & \\frac{-1}{\\sqrt{2}}\n",
    "\\end{pmatrix} \\begin{pmatrix}\n",
    "\\alpha \\\\\n",
    "\\beta \\\\\n",
    "\\gamma \\\\\n",
    "\\delta\n",
    "\\end{pmatrix} = \\begin{pmatrix}\n",
    "\\alpha \\\\\n",
    "-\\beta \\\\\n",
    "\\frac{\\gamma}{\\sqrt{2}} + \\frac{\\delta}{\\sqrt{2}} \\\\\n",
    "\\frac{\\gamma}{\\sqrt{2}} - \\frac{\\delta}{\\sqrt{2}} \n",
    "\\end{pmatrix}$$"
   ]
  },
  {
   "attachments": {},
   "cell_type": "markdown",
   "metadata": {},
   "source": [
    "We can double check this using qiskit,"
   ]
  },
  {
   "cell_type": "code",
   "execution_count": 8,
   "metadata": {},
   "outputs": [
    {
     "name": "stdout",
     "output_type": "stream",
     "text": [
      "\n",
      "Total count for 00 and 11 are: {'00': 0.5, '10': 0.5}\n",
      "Measurement outcome: 00, Post-measurement state: \\frac{\\sqrt{2}}{2} |00>+\\frac{\\sqrt{2}}{2} |10>\n"
     ]
    },
    {
     "data": {
      "image/png": "[encoded data removed]",
      "text/plain": [
       "<Figure size 700x500 with 1 Axes>"
      ]
     },
     "execution_count": 8,
     "metadata": {},
     "output_type": "execute_result"
    }
   ],
   "source": [
    "# Construct the simulator: Sometimes there are issues with Aer, in that case use BasicAer\n",
    "try:\n",
    "    simulator = qi.Aer.get_backend('statevector_simulator')\n",
    "except:\n",
    "    simulator = qi.BasicAer.get_backend('statevector_simulator')\n",
    "\n",
    "# Run the quantum circuit\n",
    "simulator_run = simulator.run(circ_1,shots =1000)\n",
    "\n",
    "# Get the results\n",
    "result = simulator_run.result()\n",
    "\n",
    "# Get the output state\n",
    "output_state = result.get_statevector(circ_1)\n",
    "# Get the measurement outcomes\n",
    "measurement_results = result.get_counts()\n",
    "\n",
    "# The raw results are a dictionary with measurement outcomes as keys and counts as values\n",
    "# print(measurement_results)\n",
    "# output_state.draw(output='latex')\n",
    "\n",
    "counts = result.get_counts(circ_1)\n",
    "print(\"\\nTotal count for 00 and 11 are:\",counts)\n",
    "\n",
    "m = list(measurement_results.keys())[0]\n",
    "l = output_state.draw(output='latex_source').replace('\\\\rangle','>')\n",
    "print('Measurement outcome: {}, Post-measurement state: {}'.format(m,l))\n",
    "qi.visualization.plot_histogram(measurement_results)\n"
   ]
  },
  {
   "attachments": {},
   "cell_type": "markdown",
   "metadata": {},
   "source": [
    "We note that the results coincide! Now, for the next two-qubit system,"
   ]
  },
  {
   "cell_type": "code",
   "execution_count": 15,
   "metadata": {},
   "outputs": [],
   "source": [
    "B = Matrix([[two, two, 0, 0], [two, -two, 0, 0], [0, 0, 1, 0],[0, 0, 0, -1]])"
   ]
  },
  {
   "cell_type": "code",
   "execution_count": 16,
   "metadata": {},
   "outputs": [
    {
     "data": {
      "text/latex": [
       "$\\displaystyle \\left[\\begin{matrix}0.707106781186547 a + 0.707106781186547 b\\\\0.707106781186547 a - 0.707106781186547 b\\\\c\\\\- d\\end{matrix}\\right]$"
      ],
      "text/plain": [
       "Matrix([\n",
       "[0.707106781186547*a + 0.707106781186547*b],\n",
       "[0.707106781186547*a - 0.707106781186547*b],\n",
       "[                                        c],\n",
       "[                                       -d]])"
      ]
     },
     "metadata": {},
     "output_type": "display_data"
    }
   ],
   "source": [
    "display(B * state_vector)"
   ]
  },
  {
   "cell_type": "code",
   "execution_count": 17,
   "metadata": {},
   "outputs": [
    {
     "data": {
      "image/png": "[encoded data removed]",
      "text/plain": [
       "<Figure size 203.683x200.667 with 1 Axes>"
      ]
     },
     "execution_count": 17,
     "metadata": {},
     "output_type": "execute_result"
    }
   ],
   "source": [
    "circ_2 = QuantumCircuit(2)\n",
    "circ_2.z(1)\n",
    "circ_2.h(0)\n",
    "circ_2.draw('mpl')"
   ]
  },
  {
   "attachments": {},
   "cell_type": "markdown",
   "metadata": {},
   "source": [
    "In the standard computational basis, this two-qubit system can be written as,\n",
    "$$\\begin{pmatrix}\n",
    "\\frac{1}{\\sqrt{2}} & \\frac{1}{\\sqrt{2}} & 0 & 0 \\\\\n",
    "\\frac{1}{\\sqrt{2}} & \\frac{-1}{\\sqrt{2}} & 0 & 0 \\\\\n",
    "0 & 0 & 1 & 0\\\\\n",
    "0 & 0 & 0 & -1\n",
    "\\end{pmatrix} \\begin{pmatrix}\n",
    "\\alpha \\\\\n",
    "\\beta \\\\\n",
    "\\gamma \\\\\n",
    "\\delta\n",
    "\\end{pmatrix} = \\begin{pmatrix}\n",
    "\\frac{\\alpha}{\\sqrt{2}} + \\frac{\\beta}{\\sqrt{2}}\\\\\n",
    "\\frac{\\alpha}{\\sqrt{2}} - \\frac{\\beta}{\\sqrt{2}} \\\\\n",
    "\\gamma \\\\\n",
    "-\\delta\n",
    "\\end{pmatrix}$$"
   ]
  },
  {
   "attachments": {},
   "cell_type": "markdown",
   "metadata": {},
   "source": [
    "## 3. Quantum Circuits"
   ]
  },
  {
   "attachments": {},
   "cell_type": "markdown",
   "metadata": {},
   "source": [
    "A well known identity involving CNOT gates is that,\n",
    "$$H \\otimes H \\ CNOT_{1,2} \\ H \\otimes H = CNOT_{2,1}$$"
   ]
  },
  {
   "attachments": {},
   "cell_type": "markdown",
   "metadata": {},
   "source": [
    "Applying this to the circuit in the RHS, we have,\n",
    "$$(\\mathbb{I} \\otimes H)CNOT_{2,1}(\\mathbb{I} \\otimes H) = (\\mathbb{I} \\otimes H)(H \\otimes H \\ CNOT_{1,2} \\ H \\otimes H)(\\mathbb{I} \\otimes H)$$"
   ]
  },
  {
   "attachments": {},
   "cell_type": "markdown",
   "metadata": {},
   "source": [
    "Since we know that the Hadarmard gate is self-inverse i.e. squares to identity,\n",
    "$$H^{2} = \\mathbb{I}$$\n",
    "thus we have,\n",
    "$$(\\mathbb{I} \\otimes H)CNOT_{2,1}(\\mathbb{I} \\otimes H) = (H \\otimes \\mathbb{I}) CNOT_{1,2}(H \\otimes \\mathbb{I})$$"
   ]
  },
  {
   "attachments": {},
   "cell_type": "markdown",
   "metadata": {},
   "source": [
    "We know that the CNOT gate can be written in the computational basis as: </br>\n",
    "$$ CNOT_{1,2} = \\mathbb{I} \\otimes X = \\begin{pmatrix}\n",
    "1 & 0 & 0 & 0 \\\\\n",
    "0 & 1 & 0 & 0 \\\\\n",
    "0 & 0 & 0 & 1\\\\\n",
    "0 & 0 & 1 & 0\n",
    "\\end{pmatrix}$$\n",
    "\n",
    "$$ CNOT_{2,1} = X \\otimes \\mathbb{I} = \\begin{pmatrix}\n",
    "1 & 0 & 0 & 0 \\\\\n",
    "0 & 0 & 0 & 1 \\\\\n",
    "0 & 0 & 1 & 0 \\\\\n",
    "0 & 1 & 0 & 0\n",
    "\\end{pmatrix}$$"
   ]
  },
  {
   "cell_type": "code",
   "execution_count": 41,
   "metadata": {},
   "outputs": [],
   "source": [
    "CNOT_1 = Matrix([[1, 0, 0, 0], [0, 1, 0, 0], [0, 0, 0, 1],[0, 0, 1, 0]])\n",
    "#CNOT_2 = Matrix([[0, 1, 0, 0], [1, 0, 0, 0], [0, 0, 1, 0],[0, 0, 0, 1]])\n",
    "CNOT_3 = Matrix([[1, 0, 0, 0], [0, 0, 0, 1], [0, 0, 1, 0],[0, 1, 0, 0]])\n",
    "Hadamard = 0.5 * Matrix([[1, 1, 1, 1], [1, -1, 1, -1], [1, 1, -1, -1],[1, -1, -1, 1]])\n",
    "Hadamard_1 = Matrix([[two, two, 0, 0], [two, -two, 0, 0], [0, 0, 1, 0],[0, 0, 0, 1]])\n",
    "Hadamard_2 = Matrix([[1, 0, 0, 0], [0, 1, 0, 0], [0, 0, two, two],[0, 0, two, -two]])"
   ]
  },
  {
   "cell_type": "code",
   "execution_count": 42,
   "metadata": {},
   "outputs": [],
   "source": [
    "CNOT_4 = Hadamard * CNOT_1 * Hadamard"
   ]
  },
  {
   "attachments": {},
   "cell_type": "markdown",
   "metadata": {},
   "source": [
    "Thus, to prove the identity we shall first evaluate the LHS,"
   ]
  },
  {
   "cell_type": "code",
   "execution_count": 20,
   "metadata": {},
   "outputs": [
    {
     "data": {
      "image/png": "[encoded data removed]",
      "text/plain": [
       "<Figure size 370.906x200.667 with 1 Axes>"
      ]
     },
     "execution_count": 20,
     "metadata": {},
     "output_type": "execute_result"
    }
   ],
   "source": [
    "circ_3 = QuantumCircuit(2)\n",
    "circ_3.h(0)\n",
    "circ_3.cx(0,1)\n",
    "circ_3.h(0)\n",
    "circ_3.draw('mpl')"
   ]
  },
  {
   "attachments": {},
   "cell_type": "markdown",
   "metadata": {},
   "source": [
    "this can be written as a matrix product,\n",
    "$$(\\mathbb{I} \\otimes H )CNOT_{1,2}(\\mathbb{I} \\otimes H ) = \\begin{pmatrix}\n",
    "1 & 0 & 0 & 0 \\\\\n",
    "0 & 1 & 0 & 0 \\\\\n",
    "0 & 0 & \\frac{1}{\\sqrt{2}} & \\frac{1}{\\sqrt{2}}\\\\\n",
    "0 & 0 & \\frac{1}{\\sqrt{2}} & \\frac{-1}{\\sqrt{2}}\n",
    "\\end{pmatrix} \\begin{pmatrix}\n",
    "1 & 0 & 0 & 0 \\\\\n",
    "0 & 1 & 0 & 0 \\\\\n",
    "0 & 0 & 0 & 1 \\\\\n",
    "0 & 0 & 1 & 0\n",
    "\\end{pmatrix} \\begin{pmatrix}\n",
    "1 & 0 & 0 & 0 \\\\\n",
    "0 & 1 & 0 & 0 \\\\\n",
    "0 & 0 & \\frac{1}{\\sqrt{2}} & \\frac{1}{\\sqrt{2}}\\\\\n",
    "0 & 0 & \\frac{1}{\\sqrt{2}} & \\frac{-1}{\\sqrt{2}}\n",
    "\\end{pmatrix}$$\n",
    "\n",
    "$$(\\mathbb{I} \\otimes H )CNOT_{1,2}(\\mathbb{I} \\otimes H ) = $$"
   ]
  },
  {
   "cell_type": "code",
   "execution_count": 35,
   "metadata": {},
   "outputs": [
    {
     "data": {
      "text/latex": [
       "$\\displaystyle \\left[\\begin{matrix}1.0 a\\\\1.0 b\\\\d\\\\c\\end{matrix}\\right]$"
      ],
      "text/plain": [
       "Matrix([\n",
       "[1.0*a],\n",
       "[1.0*b],\n",
       "[    d],\n",
       "[    c]])"
      ]
     },
     "metadata": {},
     "output_type": "display_data"
    }
   ],
   "source": [
    "display(Hadamard_1 * CNOT_1 * Hadamard_1 * state_vector)"
   ]
  },
  {
   "attachments": {},
   "cell_type": "markdown",
   "metadata": {},
   "source": [
    "Now to evaluate the RHS,"
   ]
  },
  {
   "cell_type": "code",
   "execution_count": 19,
   "metadata": {},
   "outputs": [
    {
     "data": {
      "image/png": "[encoded data removed]",
      "text/plain": [
       "<Figure size 370.906x200.667 with 1 Axes>"
      ]
     },
     "execution_count": 19,
     "metadata": {},
     "output_type": "execute_result"
    }
   ],
   "source": [
    "circ_4 = QuantumCircuit(2)\n",
    "circ_4.h(1)\n",
    "circ_4.cx(1,0)\n",
    "circ_4.h(1)\n",
    "circ_4.draw('mpl')"
   ]
  },
  {
   "attachments": {},
   "cell_type": "markdown",
   "metadata": {},
   "source": [
    "this can be written as a matrix product,\n",
    "$$(H \\otimes \\mathbb{I})CNOT_{2,1}(H \\otimes \\mathbb{I}) = \\begin{pmatrix}\n",
    "1 & 0 & 0 & 0 \\\\\n",
    "0 & -1 & 0 & 0 \\\\\n",
    "0 & 0 & \\frac{1}{\\sqrt{2}} & \\frac{1}{\\sqrt{2}}\\\\\n",
    "0 & 0 & \\frac{1}{\\sqrt{2}} & \\frac{-1}{\\sqrt{2}}\n",
    "\\end{pmatrix} \\begin{pmatrix}\n",
    "0 & 1 & 0 & 0 \\\\\n",
    "1 & 0 & 0 & 0 \\\\\n",
    "0 & 0 & 1 & 0 \\\\\n",
    "0 & 0 & 0 & 1\n",
    "\\end{pmatrix} \\begin{pmatrix}\n",
    "1 & 0 & 0 & 0 \\\\\n",
    "0 & -1 & 0 & 0 \\\\\n",
    "0 & 0 & \\frac{1}{\\sqrt{2}} & \\frac{1}{\\sqrt{2}}\\\\\n",
    "0 & 0 & \\frac{1}{\\sqrt{2}} & \\frac{-1}{\\sqrt{2}}\n",
    "\\end{pmatrix}$$\n",
    "\n",
    "$$(H \\otimes \\mathbb{I})CNOT_{2,1}(H \\otimes \\mathbb{I}) = $$"
   ]
  },
  {
   "cell_type": "code",
   "execution_count": 43,
   "metadata": {},
   "outputs": [
    {
     "data": {
      "text/latex": [
       "$\\displaystyle \\left[\\begin{matrix}1.0 a\\\\0.707106781186547 c - 0.707106781186547 d\\\\0.707106781186547 b + 0.5 c + 0.5 d\\\\- 0.707106781186547 b + 0.5 c + 0.5 d\\end{matrix}\\right]$"
      ],
      "text/plain": [
       "Matrix([\n",
       "[                                    1.0*a],\n",
       "[0.707106781186547*c - 0.707106781186547*d],\n",
       "[      0.707106781186547*b + 0.5*c + 0.5*d],\n",
       "[     -0.707106781186547*b + 0.5*c + 0.5*d]])"
      ]
     },
     "metadata": {},
     "output_type": "display_data"
    }
   ],
   "source": [
    "display(Hadamard_2 * CNOT_4 * Hadamard_2 * state_vector)"
   ]
  },
  {
   "cell_type": "markdown",
   "metadata": {},
   "source": []
  },
  {
   "attachments": {},
   "cell_type": "markdown",
   "metadata": {},
   "source": [
    "Proving their equivalence upto the equivalence of statevectors and unitary matrices using qiskit,"
   ]
  },
  {
   "cell_type": "code",
   "execution_count": 36,
   "metadata": {},
   "outputs": [
    {
     "data": {
      "text/plain": [
       "True"
      ]
     },
     "execution_count": 36,
     "metadata": {},
     "output_type": "execute_result"
    }
   ],
   "source": [
    "#checking if both the circuits produce the same state vectors\n",
    "from qiskit.quantum_info import Statevector\n",
    "Statevector.from_instruction(circ_3).equiv(Statevector.from_instruction(circ_4))"
   ]
  },
  {
   "cell_type": "code",
   "execution_count": 38,
   "metadata": {},
   "outputs": [
    {
     "data": {
      "text/plain": [
       "True"
      ]
     },
     "execution_count": 38,
     "metadata": {},
     "output_type": "execute_result"
    }
   ],
   "source": [
    "#checking if both the circuits produce the unitary matrix\n",
    "backend_sim = Aer.get_backend('unitary_simulator')\n",
    "job_sim = qi.execute([circ_3, circ_4], backend_sim)\n",
    "result_sim = job_sim.result()\n",
    "unitary1 = result_sim.get_unitary(circ_3)\n",
    "unitary2 = result_sim.get_unitary(circ_4)\n",
    "\n",
    "np.allclose(unitary1, unitary2) "
   ]
  },
  {
   "attachments": {},
   "cell_type": "markdown",
   "metadata": {},
   "source": [
    "## 4. No-Cloning Theorem"
   ]
  },
  {
   "cell_type": "code",
   "execution_count": 37,
   "metadata": {},
   "outputs": [
    {
     "data": {
      "image/png": "[encoded data removed]",
      "text/plain": [
       "<Figure size 203.683x200.667 with 1 Axes>"
      ]
     },
     "execution_count": 37,
     "metadata": {},
     "output_type": "execute_result"
    }
   ],
   "source": [
    "circ_5 = QuantumCircuit(2)\n",
    "circ_5.cx(0,1)\n",
    "circ_5.draw('mpl')"
   ]
  },
  {
   "cell_type": "code",
   "execution_count": 46,
   "metadata": {},
   "outputs": [
    {
     "data": {
      "text/latex": [
       "$$ |01\\rangle$$"
      ],
      "text/plain": [
       "<IPython.core.display.Latex object>"
      ]
     },
     "execution_count": 46,
     "metadata": {},
     "output_type": "execute_result"
    }
   ],
   "source": [
    "state = qi.quantum_info.Statevector.from_label('01')\n",
    "state.draw(output='latex')"
   ]
  },
  {
   "cell_type": "code",
   "execution_count": 49,
   "metadata": {},
   "outputs": [
    {
     "data": {
      "text/latex": [
       "$$ |11\\rangle$$"
      ],
      "text/plain": [
       "<IPython.core.display.Latex object>"
      ]
     },
     "execution_count": 49,
     "metadata": {},
     "output_type": "execute_result"
    }
   ],
   "source": [
    "state = state.evolve(circ_5)\n",
    "state.draw(output='latex')"
   ]
  },
  {
   "cell_type": "markdown",
   "metadata": {},
   "source": []
  },
  {
   "cell_type": "code",
   "execution_count": 51,
   "metadata": {},
   "outputs": [
    {
     "data": {
      "image/png": "[encoded data removed]",
      "text/plain": [
       "<Figure size 287.294x200.667 with 1 Axes>"
      ]
     },
     "execution_count": 51,
     "metadata": {},
     "output_type": "execute_result"
    }
   ],
   "source": [
    "circ_6 = QuantumCircuit(2)\n",
    "circ_6.h(1)\n",
    "circ_6.cx(1,0)\n",
    "circ_6.draw('mpl')"
   ]
  },
  {
   "cell_type": "code",
   "execution_count": 56,
   "metadata": {},
   "outputs": [
    {
     "data": {
      "text/latex": [
       "$$\\frac{\\sqrt{2}}{2} |00\\rangle- \\frac{\\sqrt{2}}{2} |01\\rangle$$"
      ],
      "text/plain": [
       "<IPython.core.display.Latex object>"
      ]
     },
     "execution_count": 56,
     "metadata": {},
     "output_type": "execute_result"
    }
   ],
   "source": [
    "state_2 = qi.quantum_info.Statevector.from_label('0-')\n",
    "state_2.draw(output='latex')"
   ]
  },
  {
   "cell_type": "code",
   "execution_count": 57,
   "metadata": {},
   "outputs": [
    {
     "data": {
      "text/latex": [
       "$$\\frac{1}{2} |00\\rangle- \\frac{1}{2} |01\\rangle- \\frac{1}{2} |10\\rangle+\\frac{1}{2} |11\\rangle$$"
      ],
      "text/plain": [
       "<IPython.core.display.Latex object>"
      ]
     },
     "execution_count": 57,
     "metadata": {},
     "output_type": "execute_result"
    }
   ],
   "source": [
    "state_2 = state_2.evolve(circ_6)\n",
    "state_2.draw(output='latex')"
   ]
  }
 ],
 "metadata": {
  "kernelspec": {
   "display_name": "base",
   "language": "python",
   "name": "python3"
  },
  "language_info": {
   "codemirror_mode": {
    "name": "ipython",
    "version": 3
   },
   "file_extension": ".py",
   "mimetype": "text/x-python",
   "name": "python",
   "nbconvert_exporter": "python",
   "pygments_lexer": "ipython3",
   "version": "3.9.13"
  },
  "orig_nbformat": 4
 },
 "nbformat": 4,
 "nbformat_minor": 2
}
