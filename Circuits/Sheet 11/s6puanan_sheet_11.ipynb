{
 "cells": [
  {
   "attachments": {},
   "cell_type": "markdown",
   "metadata": {},
   "source": [
    "# Exercises for Introduction to Quantum Computing"
   ]
  },
  {
   "attachments": {},
   "cell_type": "markdown",
   "metadata": {},
   "source": [
    "Name: Pugazharasu Anancia Devaneyan (s6puanan) <br />\n",
    "Matriculation number: 3300280"
   ]
  },
  {
   "cell_type": "code",
   "execution_count": 48,
   "metadata": {},
   "outputs": [
    {
     "name": "stdout",
     "output_type": "stream",
     "text": [
      "Collecting qiskit-ibm-provider\n",
      "  Downloading qiskit_ibm_provider-0.6.1-py3-none-any.whl (233 kB)\n",
      "     ------------------------------------ 233.8/233.8 kB 955.3 kB/s eta 0:00:00\n",
      "Requirement already satisfied: urllib3>=1.21.1 in c:\\users\\pugaz\\anaconda3\\lib\\site-packages (from qiskit-ibm-provider) (1.26.11)\n",
      "Requirement already satisfied: typing-extensions>=4.3 in c:\\users\\pugaz\\anaconda3\\lib\\site-packages (from qiskit-ibm-provider) (4.3.0)\n",
      "Requirement already satisfied: websockets>=10.0 in c:\\users\\pugaz\\anaconda3\\lib\\site-packages (from qiskit-ibm-provider) (10.4)\n",
      "Requirement already satisfied: qiskit-terra>=0.24.0 in c:\\users\\pugaz\\anaconda3\\lib\\site-packages (from qiskit-ibm-provider) (0.24.1)\n",
      "Requirement already satisfied: python-dateutil>=2.8.0 in c:\\users\\pugaz\\anaconda3\\lib\\site-packages (from qiskit-ibm-provider) (2.8.2)\n",
      "Requirement already satisfied: requests>=2.19 in c:\\users\\pugaz\\anaconda3\\lib\\site-packages (from qiskit-ibm-provider) (2.28.1)\n",
      "Requirement already satisfied: websocket-client>=1.5.1 in c:\\users\\pugaz\\anaconda3\\lib\\site-packages (from qiskit-ibm-provider) (1.5.1)\n",
      "Requirement already satisfied: requests-ntlm>=1.1.0 in c:\\users\\pugaz\\anaconda3\\lib\\site-packages (from qiskit-ibm-provider) (1.1.0)\n",
      "Requirement already satisfied: numpy>=1.13 in c:\\users\\pugaz\\anaconda3\\lib\\site-packages (from qiskit-ibm-provider) (1.21.5)\n",
      "Requirement already satisfied: six>=1.5 in c:\\users\\pugaz\\anaconda3\\lib\\site-packages (from python-dateutil>=2.8.0->qiskit-ibm-provider) (1.16.0)\n",
      "Requirement already satisfied: psutil>=5 in c:\\users\\pugaz\\anaconda3\\lib\\site-packages (from qiskit-terra>=0.24.0->qiskit-ibm-provider) (5.9.0)\n",
      "Requirement already satisfied: scipy>=1.5 in c:\\users\\pugaz\\anaconda3\\lib\\site-packages (from qiskit-terra>=0.24.0->qiskit-ibm-provider) (1.9.1)\n",
      "Requirement already satisfied: stevedore>=3.0.0 in c:\\users\\pugaz\\anaconda3\\lib\\site-packages (from qiskit-terra>=0.24.0->qiskit-ibm-provider) (4.1.0)\n",
      "Requirement already satisfied: ply>=3.10 in c:\\users\\pugaz\\anaconda3\\lib\\site-packages (from qiskit-terra>=0.24.0->qiskit-ibm-provider) (3.11)\n",
      "Requirement already satisfied: dill>=0.3 in c:\\users\\pugaz\\anaconda3\\lib\\site-packages (from qiskit-terra>=0.24.0->qiskit-ibm-provider) (0.3.4)\n",
      "Requirement already satisfied: rustworkx>=0.12.0 in c:\\users\\pugaz\\anaconda3\\lib\\site-packages (from qiskit-terra>=0.24.0->qiskit-ibm-provider) (0.12.0)\n",
      "Requirement already satisfied: sympy>=1.3 in c:\\users\\pugaz\\anaconda3\\lib\\site-packages (from qiskit-terra>=0.24.0->qiskit-ibm-provider) (1.10.1)\n",
      "Requirement already satisfied: certifi>=2017.4.17 in c:\\users\\pugaz\\anaconda3\\lib\\site-packages (from requests>=2.19->qiskit-ibm-provider) (2022.12.7)\n",
      "Requirement already satisfied: idna<4,>=2.5 in c:\\users\\pugaz\\anaconda3\\lib\\site-packages (from requests>=2.19->qiskit-ibm-provider) (3.3)\n",
      "Requirement already satisfied: charset-normalizer<3,>=2 in c:\\users\\pugaz\\anaconda3\\lib\\site-packages (from requests>=2.19->qiskit-ibm-provider) (2.0.4)\n",
      "Requirement already satisfied: cryptography>=1.3 in c:\\users\\pugaz\\anaconda3\\lib\\site-packages (from requests-ntlm>=1.1.0->qiskit-ibm-provider) (37.0.1)\n",
      "Requirement already satisfied: ntlm-auth>=1.0.2 in c:\\users\\pugaz\\anaconda3\\lib\\site-packages (from requests-ntlm>=1.1.0->qiskit-ibm-provider) (1.5.0)\n",
      "Requirement already satisfied: cffi>=1.12 in c:\\users\\pugaz\\anaconda3\\lib\\site-packages (from cryptography>=1.3->requests-ntlm>=1.1.0->qiskit-ibm-provider) (1.15.1)\n",
      "Requirement already satisfied: pbr!=2.1.0,>=2.0.0 in c:\\users\\pugaz\\anaconda3\\lib\\site-packages (from stevedore>=3.0.0->qiskit-terra>=0.24.0->qiskit-ibm-provider) (5.11.0)\n",
      "Requirement already satisfied: mpmath>=0.19 in c:\\users\\pugaz\\anaconda3\\lib\\site-packages (from sympy>=1.3->qiskit-terra>=0.24.0->qiskit-ibm-provider) (1.2.1)\n",
      "Requirement already satisfied: pycparser in c:\\users\\pugaz\\anaconda3\\lib\\site-packages (from cffi>=1.12->cryptography>=1.3->requests-ntlm>=1.1.0->qiskit-ibm-provider) (2.21)\n",
      "Installing collected packages: qiskit-ibm-provider\n",
      "Successfully installed qiskit-ibm-provider-0.6.1\n",
      "Note: you may need to restart the kernel to use updated packages.\n"
     ]
    }
   ],
   "source": [
    "%pip install qiskit-ibm-provider"
   ]
  },
  {
   "cell_type": "code",
   "execution_count": 1,
   "metadata": {},
   "outputs": [],
   "source": [
    "#Importing the required libraries\n",
    "import matplotlib.pyplot as plt\n",
    "import math\n",
    "import numpy as np\n",
    "from math import pi\n",
    "import qiskit as qi\n",
    "from qiskit import IBMQ, BasicAer, Aer, transpile\n",
    "from qiskit import QuantumCircuit, ClassicalRegister, QuantumRegister, execute\n",
    "from qiskit.visualization import plot_histogram\n",
    "from qiskit_ibm_provider import IBMProvider\n",
    "from qiskit.circuit.library import QFT"
   ]
  },
  {
   "attachments": {},
   "cell_type": "markdown",
   "metadata": {},
   "source": [
    "# 1 Quantum Simulation on Quantum Hardware"
   ]
  },
  {
   "attachments": {},
   "cell_type": "markdown",
   "metadata": {},
   "source": [
    "a) We know that,\n",
    "$$e^{-i \\omega t A \\otimes B} =  ( \\mathbb{I}_{n} \\otimes \\mathbb{I}_{n}) \\cdot \\cos (\\omega t) - i \\sin (\\omega t) \\cdot ( A \\otimes B)$$ \n",
    "holds true for all \n",
    "$$A^{2} = B^{2} = \\mathbb{I}_{n}$$\n",
    "where $n = dim(A)$. Thus, given the Hamiltonian,\n",
    "$$H=X_0 \\otimes Y_1$$\n",
    "the unitary representing this time evolution for a small timestep $\\delta t$ is given by,\n",
    "$$U = e^{- i \\delta t H}$$\n",
    "$$U = e^{- i \\delta t (X_{0} \\otimes Y_{1})}$$\n",
    "$$U = ( \\mathbb{I}_{n} \\otimes \\mathbb{I}_{n}) \\cdot \\cos (\\delta t) - i \\sin (\\delta t) \\cdot ( X_{0} \\otimes Y_{1})$$\n",
    "writing this out as matrix elements, we have:\n",
    "$$U =\\cos (\\delta t) \\begin{pmatrix} 1 & 0 & 0 & 0 \\\\ 0 & 1 & 0 & 0 \\\\ 0 & 0 & 1 & 0 \\\\ 0 & 0 & 0 & 1 \\end{pmatrix} - i \\sin (\\delta t) \\begin{pmatrix} 0 & 0 & 0 & -i \\\\ \n",
    "0 & 0 & i & 0 \\\\ 0 & -i & 0 & 0 \\\\ i & 0 & 0 & 0 \\end{pmatrix} $$\n",
    "$$U = \\begin{pmatrix} \\cos (\\delta t) & 0 & 0 & -\\sin (\\delta t) \\\\ 0 & \\cos (\\delta t) & \\sin (\\delta t) & 0 \\\\ 0 & -\\sin (\\delta t) & \\cos (\\delta t) & 0 \\\\ \\sin (\\delta t) & 0 & 0 & \\cos (\\delta t) \\end{pmatrix}$$\n",
    "This resembles the $X$ and $Y$ rotation gates, which are of the form,\n",
    "$$R_{X}(\\theta)=\\exp \\left(-i \\frac{\\theta}{2} X\\right) = \\begin{pmatrix} \\cos(\\frac{\\theta}{2}) & -i\\sin(\\frac{\\theta}{2}) \\\\ -i\\sin(\\frac{\\theta}{2}) & \\cos(\\frac{\\theta}{2}) \\end{pmatrix}$$\n",
    "$$R_{Y}(\\theta)=\\exp \\left(-i \\frac{\\theta}{2} Y\\right) = \\begin{pmatrix} \\cos(\\frac{\\theta}{2}) & -\\sin(\\frac{\\theta}{2}) \\\\ \\sin(\\frac{\\theta}{2}) & \\cos(\\frac{\\theta}{2}) \\end{pmatrix}$$\n",
    "Thus, our quantum circuit to implement the Hamiltonian is simply given by the unitary,\n",
    "$$U = R_{X}(\\theta) \\otimes R_{Y} (\\theta)$$\n",
    "where, $ \\theta = 2 \\times \\delta t$"
   ]
  },
  {
   "attachments": {},
   "cell_type": "markdown",
   "metadata": {},
   "source": [
    "b) We will now implement a quantum circuit on Qiskit for the Hamiltonian from (a)"
   ]
  },
  {
   "cell_type": "code",
   "execution_count": 13,
   "metadata": {},
   "outputs": [
    {
     "data": {
      "text/plain": [
       "array([[0.+0.j, 0.+0.j, 0.+0.j, 0.-1.j],\n",
       "       [0.+0.j, 0.+0.j, 0.+1.j, 0.+0.j],\n",
       "       [0.+0.j, 0.-1.j, 0.+0.j, 0.+0.j],\n",
       "       [0.+1.j, 0.+0.j, 0.+0.j, 0.+0.j]])"
      ]
     },
     "metadata": {},
     "output_type": "display_data"
    },
    {
     "name": "stdout",
     "output_type": "stream",
     "text": [
      "(4, 4)\n"
     ]
    }
   ],
   "source": [
    "i = 0 + 1j\n",
    "X = np.array([[0,1],[1,0]],dtype=np.complex_)\n",
    "Y = np.array([[0, 0 -i],[i,0]],dtype=np.complex_)\n",
    "D = np.kron(X,Y)\n",
    "display(D)\n",
    "print(np.shape(D))"
   ]
  },
  {
   "cell_type": "code",
   "execution_count": 15,
   "metadata": {},
   "outputs": [
    {
     "data": {
      "text/plain": [
       "array([[0.+0.j],\n",
       "       [0.+0.j],\n",
       "       [0.+0.j],\n",
       "       [0.+1.j]])"
      ]
     },
     "metadata": {},
     "output_type": "display_data"
    }
   ],
   "source": [
    "vect = np.array([[1],[0],[0],[0]])\n",
    "ans = np.matmul(D,vect)\n",
    "display(ans)"
   ]
  },
  {
   "cell_type": "code",
   "execution_count": 5,
   "metadata": {},
   "outputs": [],
   "source": [
    "def hammy(t):\n",
    "    t *= 2\n",
    "    qc = QuantumCircuit(2,2)\n",
    "    qc.p(-np.pi/2,1)\n",
    "    qc.h(1)\n",
    "    qc.h(0)\n",
    "    qc.rzz(t,0,1)\n",
    "    qc.s(1)\n",
    "    qc.h(0)\n",
    "    qc.h(1)\n",
    "    qc.measure(0,0)\n",
    "    qc.measure(1,1)\n",
    "    return qc"
   ]
  },
  {
   "cell_type": "code",
   "execution_count": 6,
   "metadata": {},
   "outputs": [
    {
     "data": {
      "image/png": "[encoded data removed]",
      "text/plain": [
       "<Figure size 788.961x284.278 with 1 Axes>"
      ]
     },
     "execution_count": 6,
     "metadata": {},
     "output_type": "execute_result"
    }
   ],
   "source": [
    "delta_t = 1\n",
    "circuit = hammy(delta_t)\n",
    "circuit.draw('mpl')"
   ]
  },
  {
   "cell_type": "code",
   "execution_count": 10,
   "metadata": {},
   "outputs": [
    {
     "data": {
      "image/png": "[encoded data removed]",
      "text/plain": [
       "<Figure size 700x500 with 1 Axes>"
      ]
     },
     "execution_count": 10,
     "metadata": {},
     "output_type": "execute_result"
    }
   ],
   "source": [
    "answer = execute(circuit, backend=BasicAer.get_backend('qasm_simulator'), shots=500000).result().get_counts()\n",
    "plot_histogram(answer)"
   ]
  },
  {
   "cell_type": "code",
   "execution_count": 27,
   "metadata": {},
   "outputs": [
    {
     "name": "stdout",
     "output_type": "stream",
     "text": [
      "{'counts': {'0x0': 1}, 'statevector': array([0.70710678+0.70710678j, 0.        +0.j        ,\n",
      "       0.        +0.j        , 0.        +0.j        ])}\n",
      "[0.70710678+0.70710678j 0.        +0.j         0.        +0.j\n",
      " 0.        +0.j        ]\n"
     ]
    }
   ],
   "source": [
    "backend = BasicAer.get_backend('statevector_simulator')\n",
    "job = execute(circuit, backend)\n",
    "result = job.result()\n",
    "\n",
    "state_vector = result.get_statevector()\n",
    "data = result.data()\n",
    "#psi1 = data[0]\n",
    "#psi2 = data['psi2']\n",
    "print(data)\n",
    "#display(state_vector.draw(output = 'latex'))\n",
    "#display(psi2.draw(output = 'latex'))\n",
    "# Print the statevector\n",
    "print(state_vector)"
   ]
  },
  {
   "attachments": {},
   "cell_type": "markdown",
   "metadata": {},
   "source": [
    "If we have the initial state,\n",
    "$$|\\psi(0)\\rangle=|00\\rangle$$"
   ]
  },
  {
   "cell_type": "code",
   "execution_count": 23,
   "metadata": {},
   "outputs": [
    {
     "data": {
      "text/latex": [
       "$$ |00\\rangle$$"
      ],
      "text/plain": [
       "<IPython.core.display.Latex object>"
      ]
     },
     "execution_count": 23,
     "metadata": {},
     "output_type": "execute_result"
    }
   ],
   "source": [
    "state = qi.quantum_info.Statevector.from_label('00')\n",
    "state.draw(output='latex')"
   ]
  },
  {
   "attachments": {},
   "cell_type": "markdown",
   "metadata": {},
   "source": [
    "we have the final state,"
   ]
  },
  {
   "cell_type": "code",
   "execution_count": 24,
   "metadata": {},
   "outputs": [
    {
     "data": {
      "text/latex": [
       "$$(0.2701511529 + 0.2701511529 i) |00\\rangle+(-0.4207354924 - 0.4207354924 i) |01\\rangle+(0.2701511529 - 0.2701511529 i) |10\\rangle+(0.4207354924 - 0.4207354924 i) |11\\rangle$$"
      ],
      "text/plain": [
       "<IPython.core.display.Latex object>"
      ]
     },
     "execution_count": 24,
     "metadata": {},
     "output_type": "execute_result"
    }
   ],
   "source": [
    "state = state.evolve(circuit)\n",
    "state.draw(output='latex')"
   ]
  },
  {
   "attachments": {},
   "cell_type": "markdown",
   "metadata": {},
   "source": [
    "Let's now simulate this using the 'statevector_simulator' in Qiskit"
   ]
  },
  {
   "cell_type": "code",
   "execution_count": 45,
   "metadata": {},
   "outputs": [
    {
     "name": "stdout",
     "output_type": "stream",
     "text": [
      "{'counts': {'0x0': 1}, 'statevector': array([2.91926582e-01+0.j        , 2.78392046e-17-0.45464871j,\n",
      "       4.54648713e-01+0.j        , 4.33569923e-17-0.70807342j])}\n",
      "[2.91926582e-01+0.j         2.78392046e-17-0.45464871j\n",
      " 4.54648713e-01+0.j         4.33569923e-17-0.70807342j]\n"
     ]
    }
   ],
   "source": []
  },
  {
   "cell_type": "code",
   "execution_count": 34,
   "metadata": {},
   "outputs": [
    {
     "name": "stdout",
     "output_type": "stream",
     "text": [
      "Result(backend_name='aer_simulator_statevector', backend_version='0.12.0', qobj_id='', job_id='659e1a72-4a6d-4894-9466-cc10997578ac', success=True, results=[ExperimentResult(shots=1000, success=True, meas_level=2, data=ExperimentResultData(counts={'0x3': 522, '0x0': 96, '0x2': 184, '0x1': 198}), header=QobjExperimentHeader(creg_sizes=[['c', 2]], global_phase=0.0, memory_slots=2, metadata=None, n_qubits=2, name='circuit-125', qreg_sizes=[['q', 2]]), status=DONE, seed_simulator=1431322735, metadata={'batched_shots_optimization': False, 'method': 'statevector', 'active_input_qubits': [0, 1], 'device': 'CPU', 'remapped_qubits': False, 'num_qubits': 2, 'num_clbits': 2, 'sample_measure_time': 0.0005768, 'input_qubit_map': [[0, 0], [1, 1]], 'measure_sampling': True, 'noise': 'ideal', 'parallel_shots': 1, 'parallel_state_update': 8, 'fusion': {'enabled': True, 'threshold': 14, 'max_fused_qubits': 5, 'applied': False}}, time_taken=0.0036944)], date=2023-06-25T17:57:22.326488, status=COMPLETED, header=None, metadata={'parallel_experiments': 1, 'omp_enabled': True, 'max_memory_mb': 16061, 'max_gpu_memory_mb': 0, 'num_processes_per_experiments': 1, 'mpi_rank': 0, 'num_mpi_processes': 1, 'time_taken_execute': 0.003763}, time_taken=0.003990888595581055)\n"
     ]
    }
   ],
   "source": [
    "shots = 1000\n",
    "sim_statevector = Aer.get_backend('aer_simulator_statevector')\n",
    "job_statevector = sim_statevector.run(circuit, shots=shots)\n",
    "counts_statevector = job_statevector.result()#.get_counts()\n",
    "#plot_histogram(counts_statevector)\n",
    "print(counts_statevector)"
   ]
  },
  {
   "attachments": {},
   "cell_type": "markdown",
   "metadata": {},
   "source": [
    "c) We will now attempt to do the same computation in (b) but in a real, noisy quantum computer!"
   ]
  },
  {
   "cell_type": "code",
   "execution_count": 2,
   "metadata": {},
   "outputs": [],
   "source": [
    "IBMProvider.save_account(token='6adec1fdf68a11d42499c8c968e334b42dfe00e3c065409caada0f56f0a5c5118572aea9e997eed1751341e5092ac7e3cff6202b84a810a1988e1e4622987c48')"
   ]
  },
  {
   "cell_type": "code",
   "execution_count": 3,
   "metadata": {},
   "outputs": [
    {
     "name": "stdout",
     "output_type": "stream",
     "text": [
      "ibmq_lima:_5_qubits\n",
      "ibmq_belem:_5_qubits\n",
      "simulator_mps:_100_qubits\n",
      "simulator_statevector:_32_qubits\n",
      "simulator_stabilizer:_5000_qubits\n",
      "ibm_lagos:_7_qubits\n",
      "ibmq_qasm_simulator:_32_qubits\n",
      "simulator_extended_stabilizer:_63_qubits\n",
      "ibmq_manila:_5_qubits\n",
      "ibm_nairobi:_7_qubits\n",
      "ibm_perth:_7_qubits\n",
      "ibmq_jakarta:_7_qubits\n",
      "ibmq_quito:_5_qubits\n"
     ]
    }
   ],
   "source": [
    "provider = IBMProvider()\n",
    "device_list = provider.backends()\n",
    "for dev in device_list:\n",
    "    print(dev.name + ':_' + str(dev.configuration().n_qubits) + '_qubits')"
   ]
  },
  {
   "cell_type": "code",
   "execution_count": 11,
   "metadata": {},
   "outputs": [],
   "source": [
    "num_shots_hardware = 500000\n",
    "hardware_backend = provider.get_backend('ibmq_belem')\n",
    "job = execute(circuit,backend=hardware_backend , shots=num_shots_hardware )\n"
   ]
  },
  {
   "cell_type": "code",
   "execution_count": 12,
   "metadata": {},
   "outputs": [
    {
     "data": {
      "image/png": "[encoded data removed]",
      "text/plain": [
       "<Figure size 700x500 with 1 Axes>"
      ]
     },
     "execution_count": 12,
     "metadata": {},
     "output_type": "execute_result"
    }
   ],
   "source": [
    "counts = job.result().get_counts()\n",
    "plot_histogram(counts)"
   ]
  },
  {
   "attachments": {},
   "cell_type": "markdown",
   "metadata": {},
   "source": [
    "We can also use a classical simulator which can simulate the nosie on a quantum device in order to do this computation."
   ]
  },
  {
   "cell_type": "code",
   "execution_count": 35,
   "metadata": {},
   "outputs": [
    {
     "data": {
      "image/png": "[encoded data removed]",
      "text/plain": [
       "<Figure size 700x500 with 1 Axes>"
      ]
     },
     "execution_count": 35,
     "metadata": {},
     "output_type": "execute_result"
    }
   ],
   "source": [
    "from qiskit.providers.fake_provider import FakeQuitoV2\n",
    "num_shots_hardware = 500000\n",
    "hardware_backend = FakeQuitoV2()\n",
    "job = execute(circuit, backend=hardware_backend, shots = num_shots_hardware)\n",
    "counts = job.result().get_counts()\n",
    "plot_histogram(counts)"
   ]
  },
  {
   "attachments": {},
   "cell_type": "markdown",
   "metadata": {},
   "source": [
    "# 2 Pauli Measurements"
   ]
  },
  {
   "attachments": {},
   "cell_type": "markdown",
   "metadata": {},
   "source": [
    "a) The unitary transformation such that the final state of the circuit is an eigenstate of the Pauli operator that the unitary is supossed to represent is given by, for the case of the Pauli $Z$ operator,\n",
    "$$U_{1} := Z$$\n",
    "for the case of the Pauli $X$ operator,\n",
    "$$U_{2} := H$$\n",
    "for the case of the Paul $Y$ operator,\n",
    "$$U_{3} := H \\cdot S^{\\dagger}$$"
   ]
  },
  {
   "attachments": {},
   "cell_type": "markdown",
   "metadata": {},
   "source": [
    "b) Now to generalize from the single-qubit case, we will consider a few cases for two-qubits. The respective unitary transformations $U_{i}$ for the circuit are given by the table below:\n",
    "<center>\n",
    "\n",
    "| Tables   |      Are      |  Cool |\n",
    "|----------|:-------------:|------:|\n",
    "| col 1 is |  left-aligned | $1600 |\n",
    "| col 2 is |    centered   |   $12 |\n",
    "| col 3 is | right-aligned |    $1 |\n",
    "\n",
    "</center>"
   ]
  },
  {
   "cell_type": "code",
   "execution_count": 5,
   "metadata": {},
   "outputs": [
    {
     "data": {
      "text/plain": [
       "[AerSimulator('aer_simulator'),\n",
       " AerSimulator('aer_simulator_statevector'),\n",
       " AerSimulator('aer_simulator_density_matrix'),\n",
       " AerSimulator('aer_simulator_stabilizer'),\n",
       " AerSimulator('aer_simulator_matrix_product_state'),\n",
       " AerSimulator('aer_simulator_extended_stabilizer'),\n",
       " AerSimulator('aer_simulator_unitary'),\n",
       " AerSimulator('aer_simulator_superop'),\n",
       " QasmSimulator('qasm_simulator'),\n",
       " StatevectorSimulator('statevector_simulator'),\n",
       " UnitarySimulator('unitary_simulator'),\n",
       " PulseSimulator('pulse_simulator')]"
      ]
     },
     "execution_count": 5,
     "metadata": {},
     "output_type": "execute_result"
    }
   ],
   "source": [
    "Aer.backends()"
   ]
  },
  {
   "cell_type": "code",
   "execution_count": 6,
   "metadata": {},
   "outputs": [
    {
     "data": {
      "image/png": "[encoded data removed]",
      "text/plain": [
       "<Figure size 269.064x200.667 with 1 Axes>"
      ]
     },
     "execution_count": 6,
     "metadata": {},
     "output_type": "execute_result"
    }
   ],
   "source": [
    "evo = QuantumCircuit(1,1)\n",
    "evo.z(0)\n",
    "evo.measure(0,0)\n",
    "evo.draw('mpl')"
   ]
  },
  {
   "cell_type": "code",
   "execution_count": 8,
   "metadata": {},
   "outputs": [
    {
     "name": "stdout",
     "output_type": "stream",
     "text": [
      "{'0': 1000}\n"
     ]
    }
   ],
   "source": [
    "shots = 1000\n",
    "sim_statevector = Aer.get_backend('aer_simulator_statevector')\n",
    "job_statevector = sim_statevector.run(evo, shots=shots)\n",
    "counts_statevector = job_statevector.result().get_counts(0)\n",
    "print(counts_statevector)"
   ]
  },
  {
   "cell_type": "code",
   "execution_count": null,
   "metadata": {},
   "outputs": [],
   "source": [
    "state = qi.quantum_info.Statevector.from_label('1')\n",
    "state.draw(output='latex')"
   ]
  }
 ],
 "metadata": {
  "kernelspec": {
   "display_name": "Python 3 (ipykernel)",
   "language": "python",
   "name": "python3"
  },
  "language_info": {
   "codemirror_mode": {
    "name": "ipython",
    "version": 3
   },
   "file_extension": ".py",
   "mimetype": "text/x-python",
   "name": "python",
   "nbconvert_exporter": "python",
   "pygments_lexer": "ipython3",
   "version": "3.9.13"
  }
 },
 "nbformat": 4,
 "nbformat_minor": 2
}
