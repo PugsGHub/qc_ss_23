{
 "cells": [
  {
   "attachments": {},
   "cell_type": "markdown",
   "metadata": {},
   "source": [
    "# Exercises for Introduction to Quantum Computing"
   ]
  },
  {
   "attachments": {},
   "cell_type": "markdown",
   "metadata": {},
   "source": [
    "Name: Pugazharasu Anancia Devaneyan (s6puanan) <br />\n",
    "Matriculation number: 3300280"
   ]
  },
  {
   "cell_type": "code",
   "execution_count": 11,
   "metadata": {},
   "outputs": [],
   "source": [
    "#Importing the required libraries\n",
    "import matplotlib.pyplot as plt\n",
    "import math\n",
    "import numpy as np\n",
    "from math import pi\n",
    "import qiskit as qi\n",
    "from qiskit import IBMQ, BasicAer, Aer\n",
    "from qiskit import QuantumCircuit, ClassicalRegister, QuantumRegister, execute\n",
    "from qiskit.visualization import plot_histogram\n",
    "from qiskit.circuit.library import QFT\n",
    "from scipy import signal"
   ]
  },
  {
   "attachments": {},
   "cell_type": "markdown",
   "metadata": {},
   "source": [
    "# 1 Quantum Simulation on Quantum Hardware"
   ]
  },
  {
   "attachments": {},
   "cell_type": "markdown",
   "metadata": {},
   "source": [
    "a) We know from sheet 8 that,\n",
    "$$e^{i k \\sigma_{n}} =  \\mathbb{I} \\cdot \\cos (k)+i \\sigma_{n} \\cdot \\sin (k)$$ \n",
    "Given the Hamiltonian,\n",
    "$$H=X_0 \\otimes Y_1$$\n",
    "the unitary representing this time evolution for a small timestep $\\delta t$ is given by,\n",
    "$$U = e^{- i \\delta t H}$$\n",
    "$$U = e^{- i \\delta t X_{0}} \\otimes e^{- i \\delta t Y_{1}}$$\n",
    "$$U =  \\left [ \\mathbb{I} \\cdot \\cos (\\delta t) - i X_0 \\cdot \\sin (\\delta t) \\right ]  \\otimes \\left [\\mathbb{I} \\cdot \\cos (\\delta t) -i Y_1 \\cdot \\sin (\\delta t) \\right ]$$\n",
    "writing this out as matrix elements, we have:\n",
    "$$U = \\begin{pmatrix}\\cos (\\delta t) & - i\\sin (\\delta t) \\\\ - i \\sin (\\delta t) &  \\cos (\\delta t) \\end{pmatrix} \\otimes \\begin{pmatrix} \\cos (\\delta t) & -\\sin (\\delta t) \\\\ \\sin (\\delta t) & \\cos (\\delta t)\\end{pmatrix} $$\n",
    "This resembles the $X$ and $Y$ rotation gates, which are of the form,\n",
    "$$R_{X}(\\theta)=\\exp \\left(-i \\frac{\\theta}{2} X\\right) = \\begin{pmatrix} \\cos(\\frac{\\theta}{2}) & -i\\sin(\\frac{\\theta}{2}) \\\\ -i\\sin(\\frac{\\theta}{2}) & \\cos(\\frac{\\theta}{2}) \\end{pmatrix}$$\n",
    "$$R_{Y}(\\theta)=\\exp \\left(-i \\frac{\\theta}{2} Y\\right) = \\begin{pmatrix} \\cos(\\frac{\\theta}{2}) & -\\sin(\\frac{\\theta}{2}) \\\\ \\sin(\\frac{\\theta}{2}) & \\cos(\\frac{\\theta}{2}) \\end{pmatrix}$$\n",
    "Thus, our quantum circuit to implement the Hamiltonian is simply given by the unitary,\n",
    "$$U = R_{X}(\\theta) \\otimes R_{Y} (\\theta)$$\n",
    "where, $ \\theta = 2 \\times \\delta t$"
   ]
  },
  {
   "attachments": {},
   "cell_type": "markdown",
   "metadata": {},
   "source": [
    "b) We will now implement a quantum circuit on Qiskit for the Hamiltonian from (a)"
   ]
  },
  {
   "cell_type": "code",
   "execution_count": 37,
   "metadata": {},
   "outputs": [],
   "source": [
    "def hammy(t):\n",
    "    t *= 2\n",
    "    qc = QuantumCircuit(2,2)\n",
    "    qc.rx(t,0)\n",
    "    qc.ry(t,1)\n",
    "    #qc.measure(0,0)\n",
    "    #qc.measure(1,1)\n",
    "    return qc"
   ]
  },
  {
   "cell_type": "code",
   "execution_count": 38,
   "metadata": {},
   "outputs": [
    {
     "data": {
      "image/png": "[encoded data removed]",
      "text/plain": [
       "<Figure size 203.683x284.278 with 1 Axes>"
      ]
     },
     "execution_count": 38,
     "metadata": {},
     "output_type": "execute_result"
    }
   ],
   "source": [
    "delta_t = 1\n",
    "circuit = hammy(delta_t)\n",
    "circuit.draw('mpl')"
   ]
  },
  {
   "attachments": {},
   "cell_type": "markdown",
   "metadata": {},
   "source": [
    "If we have the initial state,\n",
    "$$|\\psi(0)\\rangle=|00\\rangle$$"
   ]
  },
  {
   "cell_type": "code",
   "execution_count": 35,
   "metadata": {},
   "outputs": [
    {
     "data": {
      "text/latex": [
       "$$ |00\\rangle$$"
      ],
      "text/plain": [
       "<IPython.core.display.Latex object>"
      ]
     },
     "execution_count": 35,
     "metadata": {},
     "output_type": "execute_result"
    }
   ],
   "source": [
    "state = qi.quantum_info.Statevector.from_label('00')\n",
    "state.draw(output='latex')"
   ]
  },
  {
   "attachments": {},
   "cell_type": "markdown",
   "metadata": {},
   "source": [
    "we have the final state,"
   ]
  },
  {
   "cell_type": "code",
   "execution_count": 46,
   "metadata": {},
   "outputs": [
    {
     "data": {
      "text/latex": [
       "$$0.2919265817 |00\\rangle- 0.4546487134 i |01\\rangle+0.4546487134 |10\\rangle- 0.7080734183 i |11\\rangle$$"
      ],
      "text/plain": [
       "<IPython.core.display.Latex object>"
      ]
     },
     "execution_count": 46,
     "metadata": {},
     "output_type": "execute_result"
    }
   ],
   "source": [
    "state = state.evolve(circuit)\n",
    "state.draw(output='latex')"
   ]
  },
  {
   "attachments": {},
   "cell_type": "markdown",
   "metadata": {},
   "source": [
    "Let's now simulate this using the 'statevector_simulator' in Qiskit"
   ]
  },
  {
   "cell_type": "code",
   "execution_count": 45,
   "metadata": {},
   "outputs": [
    {
     "name": "stdout",
     "output_type": "stream",
     "text": [
      "{'counts': {'0x0': 1}, 'statevector': array([2.91926582e-01+0.j        , 2.78392046e-17-0.45464871j,\n",
      "       4.54648713e-01+0.j        , 4.33569923e-17-0.70807342j])}\n",
      "[2.91926582e-01+0.j         2.78392046e-17-0.45464871j\n",
      " 4.54648713e-01+0.j         4.33569923e-17-0.70807342j]\n"
     ]
    }
   ],
   "source": [
    "backend = BasicAer.get_backend('statevector_simulator')\n",
    "job = execute(circuit, backend)\n",
    "result = job.result()\n",
    "\n",
    "state_vector = result.get_statevector()\n",
    "data = result.data()\n",
    "#psi1 = data[0]\n",
    "#psi2 = data['psi2']\n",
    "print(data)\n",
    "#display(state_vector.draw(output = 'latex'))\n",
    "#display(psi2.draw(output = 'latex'))\n",
    "# Print the statevector\n",
    "print(state_vector)"
   ]
  },
  {
   "cell_type": "code",
   "execution_count": 34,
   "metadata": {},
   "outputs": [
    {
     "name": "stdout",
     "output_type": "stream",
     "text": [
      "Result(backend_name='aer_simulator_statevector', backend_version='0.12.0', qobj_id='', job_id='659e1a72-4a6d-4894-9466-cc10997578ac', success=True, results=[ExperimentResult(shots=1000, success=True, meas_level=2, data=ExperimentResultData(counts={'0x3': 522, '0x0': 96, '0x2': 184, '0x1': 198}), header=QobjExperimentHeader(creg_sizes=[['c', 2]], global_phase=0.0, memory_slots=2, metadata=None, n_qubits=2, name='circuit-125', qreg_sizes=[['q', 2]]), status=DONE, seed_simulator=1431322735, metadata={'batched_shots_optimization': False, 'method': 'statevector', 'active_input_qubits': [0, 1], 'device': 'CPU', 'remapped_qubits': False, 'num_qubits': 2, 'num_clbits': 2, 'sample_measure_time': 0.0005768, 'input_qubit_map': [[0, 0], [1, 1]], 'measure_sampling': True, 'noise': 'ideal', 'parallel_shots': 1, 'parallel_state_update': 8, 'fusion': {'enabled': True, 'threshold': 14, 'max_fused_qubits': 5, 'applied': False}}, time_taken=0.0036944)], date=2023-06-25T17:57:22.326488, status=COMPLETED, header=None, metadata={'parallel_experiments': 1, 'omp_enabled': True, 'max_memory_mb': 16061, 'max_gpu_memory_mb': 0, 'num_processes_per_experiments': 1, 'mpi_rank': 0, 'num_mpi_processes': 1, 'time_taken_execute': 0.003763}, time_taken=0.003990888595581055)\n"
     ]
    }
   ],
   "source": [
    "shots = 1000\n",
    "sim_statevector = Aer.get_backend('aer_simulator_statevector')\n",
    "job_statevector = sim_statevector.run(circuit, shots=shots)\n",
    "counts_statevector = job_statevector.result()#.get_counts()\n",
    "#plot_histogram(counts_statevector)\n",
    "print(counts_statevector)"
   ]
  },
  {
   "attachments": {},
   "cell_type": "markdown",
   "metadata": {},
   "source": [
    "c) We will now attempt to do the same computation in (b) but in a real, noisy quantum computer!"
   ]
  },
  {
   "cell_type": "code",
   "execution_count": null,
   "metadata": {},
   "outputs": [],
   "source": [
    "from qiskit_ibm_provider import IBMProvider\n",
    "IBMProvider.save_account(token=MY_API_TOKEN)"
   ]
  },
  {
   "cell_type": "code",
   "execution_count": null,
   "metadata": {},
   "outputs": [],
   "source": [
    "provider = IBMProvider()\n",
    "device_list = provider.backends()\n",
    "for dev in device_list:\n",
    "    print(dev.name + ':_' + str(dev.configuration().n_qubits) + '_qubits')"
   ]
  },
  {
   "cell_type": "code",
   "execution_count": null,
   "metadata": {},
   "outputs": [],
   "source": [
    "num_shots_hardware = 1024\n",
    "hardware_backend = provider.get_backend('ibmq_quito')\n",
    "job = execute(qc,backend=hardware_backend , shots=num_shots_hardware )"
   ]
  },
  {
   "attachments": {},
   "cell_type": "markdown",
   "metadata": {},
   "source": [
    "We can also use a classical simulator which can simulate the nosie on a quantum device in order to do this computation."
   ]
  },
  {
   "cell_type": "code",
   "execution_count": null,
   "metadata": {},
   "outputs": [],
   "source": [
    "from qiskit.providers.fake_provider import FakeQuitoV2\n",
    "hardware_backend = FakeQuitoV2()\n",
    "job = execute(qc, backend=hardware_backend, shots = num_shots_hardware)"
   ]
  },
  {
   "attachments": {},
   "cell_type": "markdown",
   "metadata": {},
   "source": [
    "# 2 Pauli Measurements"
   ]
  },
  {
   "attachments": {},
   "cell_type": "markdown",
   "metadata": {},
   "source": [
    "a)"
   ]
  },
  {
   "attachments": {},
   "cell_type": "markdown",
   "metadata": {},
   "source": [
    "b)"
   ]
  },
  {
   "cell_type": "code",
   "execution_count": 5,
   "metadata": {},
   "outputs": [
    {
     "data": {
      "text/plain": [
       "[AerSimulator('aer_simulator'),\n",
       " AerSimulator('aer_simulator_statevector'),\n",
       " AerSimulator('aer_simulator_density_matrix'),\n",
       " AerSimulator('aer_simulator_stabilizer'),\n",
       " AerSimulator('aer_simulator_matrix_product_state'),\n",
       " AerSimulator('aer_simulator_extended_stabilizer'),\n",
       " AerSimulator('aer_simulator_unitary'),\n",
       " AerSimulator('aer_simulator_superop'),\n",
       " QasmSimulator('qasm_simulator'),\n",
       " StatevectorSimulator('statevector_simulator'),\n",
       " UnitarySimulator('unitary_simulator'),\n",
       " PulseSimulator('pulse_simulator')]"
      ]
     },
     "execution_count": 5,
     "metadata": {},
     "output_type": "execute_result"
    }
   ],
   "source": [
    "Aer.backends()"
   ]
  },
  {
   "cell_type": "code",
   "execution_count": 6,
   "metadata": {},
   "outputs": [
    {
     "data": {
      "image/png": "[encoded data removed]",
      "text/plain": [
       "<Figure size 269.064x200.667 with 1 Axes>"
      ]
     },
     "execution_count": 6,
     "metadata": {},
     "output_type": "execute_result"
    }
   ],
   "source": [
    "evo = QuantumCircuit(1,1)\n",
    "evo.z(0)\n",
    "evo.measure(0,0)\n",
    "evo.draw('mpl')"
   ]
  },
  {
   "cell_type": "code",
   "execution_count": 8,
   "metadata": {},
   "outputs": [
    {
     "name": "stdout",
     "output_type": "stream",
     "text": [
      "{'0': 1000}\n"
     ]
    }
   ],
   "source": [
    "shots = 1000\n",
    "sim_statevector = Aer.get_backend('aer_simulator_statevector')\n",
    "job_statevector = sim_statevector.run(evo, shots=shots)\n",
    "counts_statevector = job_statevector.result().get_counts(0)\n",
    "print(counts_statevector)"
   ]
  },
  {
   "cell_type": "code",
   "execution_count": null,
   "metadata": {},
   "outputs": [],
   "source": [
    "state = qi.quantum_info.Statevector.from_label('1')\n",
    "state.draw(output='latex')"
   ]
  }
 ],
 "metadata": {
  "kernelspec": {
   "display_name": "Python 3 (ipykernel)",
   "language": "python",
   "name": "python3"
  },
  "language_info": {
   "codemirror_mode": {
    "name": "ipython",
    "version": 3
   },
   "file_extension": ".py",
   "mimetype": "text/x-python",
   "name": "python",
   "nbconvert_exporter": "python",
   "pygments_lexer": "ipython3",
   "version": "3.9.13"
  }
 },
 "nbformat": 4,
 "nbformat_minor": 2
}
