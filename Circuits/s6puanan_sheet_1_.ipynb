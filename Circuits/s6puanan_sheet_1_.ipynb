{
 "cells": [
  {
   "attachments": {},
   "cell_type": "markdown",
   "metadata": {},
   "source": [
    "# Exercises for Introduction to Quantum Computing"
   ]
  },
  {
   "attachments": {},
   "cell_type": "markdown",
   "metadata": {},
   "source": [
    "Name: Pugazharasu Anancia Devaneyan (s6puanan) <br />\n",
    "Matriculation number: 3300280"
   ]
  },
  {
   "attachments": {},
   "cell_type": "markdown",
   "metadata": {},
   "source": [
    "## 1. Installation of Qiskit"
   ]
  },
  {
   "cell_type": "code",
   "execution_count": null,
   "metadata": {},
   "outputs": [],
   "source": [
    "%pip install qiskit"
   ]
  },
  {
   "cell_type": "code",
   "execution_count": 5,
   "metadata": {},
   "outputs": [],
   "source": [
    "import numpy as np\n",
    "import qiskit as qi\n",
    "from qiskit import IBMQ, Aer\n",
    "from qiskit.providers.ibmq import least_busy\n",
    "from qiskit import QuantumCircuit, transpile\n",
    "\n",
    "from qiskit.visualization import plot_histogram"
   ]
  },
  {
   "attachments": {},
   "cell_type": "markdown",
   "metadata": {},
   "source": [
    "## 2. Quantum Gates"
   ]
  },
  {
   "cell_type": "code",
   "execution_count": 6,
   "metadata": {},
   "outputs": [
    {
     "data": {
      "image/png": "[encoded data removed]",
      "text/plain": [
       "<Figure size 203.683x200.667 with 1 Axes>"
      ]
     },
     "execution_count": 6,
     "metadata": {},
     "output_type": "execute_result"
    }
   ],
   "source": [
    "circ_1 = QuantumCircuit(2)\n",
    "circ_1.z(0)\n",
    "circ_1.h(1)\n",
    "circ_1.draw('mpl')"
   ]
  },
  {
   "attachments": {},
   "cell_type": "markdown",
   "metadata": {},
   "source": [
    "In the standard computational basis, this two-qubit system can be written as,\n",
    "$$\\begin{pmatrix}\n",
    "1 & 0 & 0 & 0 \\\\\n",
    "0 & -1 & 0 & 0 \\\\\n",
    "0 & 0 & \\frac{1}{\\sqrt{2}} & \\frac{1}{\\sqrt{2}}\\\\\n",
    "0 & 0 & \\frac{1}{\\sqrt{2}} & \\frac{-1}{\\sqrt{2}}\n",
    "\\end{pmatrix} \\begin{pmatrix}\n",
    "\\alpha \\\\\n",
    "\\beta \\\\\n",
    "\\gamma \\\\\n",
    "\\delta\n",
    "\\end{pmatrix} = \\begin{pmatrix}\n",
    "\\alpha \\\\\n",
    "-\\beta \\\\\n",
    "\\frac{\\gamma}{\\sqrt{2}} + \\frac{\\delta}{\\sqrt{2}} \\\\\n",
    "\\frac{\\gamma}{\\sqrt{2}} - \\frac{\\delta}{\\sqrt{2}} \n",
    "\\end{pmatrix}$$"
   ]
  },
  {
   "attachments": {},
   "cell_type": "markdown",
   "metadata": {},
   "source": [
    "Now, for the next two-qubit system,"
   ]
  },
  {
   "cell_type": "code",
   "execution_count": 17,
   "metadata": {},
   "outputs": [
    {
     "data": {
      "image/png": "[encoded data removed]",
      "text/plain": [
       "<Figure size 203.683x200.667 with 1 Axes>"
      ]
     },
     "execution_count": 17,
     "metadata": {},
     "output_type": "execute_result"
    }
   ],
   "source": [
    "circ_2 = QuantumCircuit(2)\n",
    "circ_2.z(1)\n",
    "circ_2.h(0)\n",
    "circ_2.draw('mpl')"
   ]
  },
  {
   "attachments": {},
   "cell_type": "markdown",
   "metadata": {},
   "source": [
    "In the standard computational basis, this two-qubit system can be written as,\n",
    "$$\\begin{pmatrix}\n",
    "\\frac{1}{\\sqrt{2}} & \\frac{1}{\\sqrt{2}} & 0 & 0 \\\\\n",
    "\\frac{1}{\\sqrt{2}} & \\frac{-1}{\\sqrt{2}} & 0 & 0 \\\\\n",
    "0 & 0 & 1 & 0\\\\\n",
    "0 & 0 & 0 & -1\n",
    "\\end{pmatrix} \\begin{pmatrix}\n",
    "\\alpha \\\\\n",
    "\\beta \\\\\n",
    "\\gamma \\\\\n",
    "\\delta\n",
    "\\end{pmatrix} = \\begin{pmatrix}\n",
    "\\frac{\\alpha}{\\sqrt{2}} + \\frac{\\beta}{\\sqrt{2}}\\\\\n",
    "\\frac{\\alpha}{\\sqrt{2}} - \\frac{\\beta}{\\sqrt{2}} \\\\\n",
    "\\gamma \\\\\n",
    "-\\delta\n",
    "\\end{pmatrix}$$"
   ]
  },
  {
   "attachments": {},
   "cell_type": "markdown",
   "metadata": {},
   "source": [
    "## 3. Quantum Circuits"
   ]
  },
  {
   "attachments": {},
   "cell_type": "markdown",
   "metadata": {},
   "source": [
    "A well known identity involving CNOT gates is that,\n",
    "$$H \\otimes H \\ CNOT_{1,2} \\ H \\otimes H = CNOT_{2,1}$$"
   ]
  },
  {
   "attachments": {},
   "cell_type": "markdown",
   "metadata": {},
   "source": [
    "Applying this to the circuit in the RHS, we have,\n",
    "$$(\\mathbb{I} \\otimes H)CNOT_{2,1}(\\mathbb{I} \\otimes H) = (\\mathbb{I} \\otimes H)(H \\otimes H \\ CNOT_{1,2} \\ H \\otimes H)(\\mathbb{I} \\otimes H)$$"
   ]
  },
  {
   "attachments": {},
   "cell_type": "markdown",
   "metadata": {},
   "source": [
    "Since we know that the Hadarmard gate is self-inverse i.e. squares to identity,\n",
    "$$H^{2} = \\mathbb{I}$$\n",
    "thus we have,\n",
    "$$(\\mathbb{I} \\otimes H)CNOT_{2,1}(\\mathbb{I} \\otimes H) = (H \\otimes \\mathbb{I}) CNOT_{1,2}(H \\otimes \\mathbb{I})$$"
   ]
  },
  {
   "attachments": {},
   "cell_type": "markdown",
   "metadata": {},
   "source": [
    "We can also prove this equivalence using qiskit,"
   ]
  },
  {
   "cell_type": "code",
   "execution_count": 20,
   "metadata": {},
   "outputs": [
    {
     "data": {
      "image/png": "[encoded data removed]",
      "text/plain": [
       "<Figure size 370.906x200.667 with 1 Axes>"
      ]
     },
     "execution_count": 20,
     "metadata": {},
     "output_type": "execute_result"
    }
   ],
   "source": [
    "circ_3 = QuantumCircuit(2)\n",
    "circ_3.h(0)\n",
    "circ_3.cx(0,1)\n",
    "circ_3.h(0)\n",
    "circ_3.draw('mpl')"
   ]
  },
  {
   "attachments": {},
   "cell_type": "markdown",
   "metadata": {},
   "source": [
    "Now to evaluate the RHS,"
   ]
  },
  {
   "cell_type": "code",
   "execution_count": 19,
   "metadata": {},
   "outputs": [
    {
     "data": {
      "image/png": "[encoded data removed]",
      "text/plain": [
       "<Figure size 370.906x200.667 with 1 Axes>"
      ]
     },
     "execution_count": 19,
     "metadata": {},
     "output_type": "execute_result"
    }
   ],
   "source": [
    "circ_4 = QuantumCircuit(2)\n",
    "circ_4.h(1)\n",
    "circ_4.cx(1,0)\n",
    "circ_4.h(1)\n",
    "circ_4.draw('mpl')"
   ]
  },
  {
   "attachments": {},
   "cell_type": "markdown",
   "metadata": {},
   "source": [
    "Proving their equivalence upto the equivalence of statevectors and unitary matrices using qiskit,"
   ]
  },
  {
   "cell_type": "code",
   "execution_count": 36,
   "metadata": {},
   "outputs": [
    {
     "data": {
      "text/plain": [
       "True"
      ]
     },
     "execution_count": 36,
     "metadata": {},
     "output_type": "execute_result"
    }
   ],
   "source": [
    "#checking if both the circuits produce the same state vectors\n",
    "from qiskit.quantum_info import Statevector\n",
    "Statevector.from_instruction(circ_3).equiv(Statevector.from_instruction(circ_4))"
   ]
  },
  {
   "cell_type": "code",
   "execution_count": 38,
   "metadata": {},
   "outputs": [
    {
     "data": {
      "text/plain": [
       "True"
      ]
     },
     "execution_count": 38,
     "metadata": {},
     "output_type": "execute_result"
    }
   ],
   "source": [
    "#checking if both the circuits produce the unitary matrix\n",
    "backend_sim = Aer.get_backend('unitary_simulator')\n",
    "job_sim = qi.execute([circ_3, circ_4], backend_sim)\n",
    "result_sim = job_sim.result()\n",
    "unitary1 = result_sim.get_unitary(circ_3)\n",
    "unitary2 = result_sim.get_unitary(circ_4)\n",
    "\n",
    "np.allclose(unitary1, unitary2) "
   ]
  },
  {
   "attachments": {},
   "cell_type": "markdown",
   "metadata": {},
   "source": [
    "## 4. No-Cloning Theorem"
   ]
  },
  {
   "cell_type": "code",
   "execution_count": null,
   "metadata": {},
   "outputs": [],
   "source": []
  }
 ],
 "metadata": {
  "kernelspec": {
   "display_name": "base",
   "language": "python",
   "name": "python3"
  },
  "language_info": {
   "codemirror_mode": {
    "name": "ipython",
    "version": 3
   },
   "file_extension": ".py",
   "mimetype": "text/x-python",
   "name": "python",
   "nbconvert_exporter": "python",
   "pygments_lexer": "ipython3",
   "version": "3.9.13"
  },
  "orig_nbformat": 4
 },
 "nbformat": 4,
 "nbformat_minor": 2
}
