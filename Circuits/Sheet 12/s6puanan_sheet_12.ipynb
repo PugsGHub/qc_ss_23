{
 "cells": [
  {
   "attachments": {},
   "cell_type": "markdown",
   "metadata": {},
   "source": [
    "# Exercises for Introduction to Quantum Computing"
   ]
  },
  {
   "attachments": {},
   "cell_type": "markdown",
   "metadata": {},
   "source": [
    "Name: Pugazharasu Anancia Devaneyan (s6puanan) <br />\n",
    "Matriculation number: 3300280"
   ]
  },
  {
   "attachments": {},
   "cell_type": "markdown",
   "metadata": {},
   "source": [
    "# 1 Mapping 1+1D Quantum Electrodynamics to Qubits"
   ]
  },
  {
   "attachments": {},
   "cell_type": "markdown",
   "metadata": {},
   "source": [
    "a) We are to show that the mass term of staggered fermions contains a factor of . We know that the mass term of the lattice Hamiltonian reads as,\n",
    "$$\\sum_{n=0,2,4, \\ldots}^{N-2} \\bar{\\psi}(n) \\psi(n)$$\n",
    "We can transform the fermions into staggered fermions via the transform,\n",
    "$$\\psi(n)=\\sqrt{a}\\left(\\begin{array}{c}\n",
    "\\phi(n) \\\\\n",
    "\\phi(n+1)\n",
    "\\end{array}\\right)$$\n",
    "Thus, for a single term we have\n",
    "$$\\bar{\\psi}(n) \\psi(n) = a \\left[\\phi^{\\dagger}(n) \\phi(n)- \\phi^{\\dagger}(n+1) \\phi(n+1)\\right]$$\n",
    "Therefore, we can rewrite the sum to be\n",
    "$$\\sum_{n=0,2,4, \\ldots}^{N-2} \\bar{\\psi}(n) \\psi(n) = a \\sum_{n=0}^{N-1}(-1)^n \\phi^{\\dagger}(n) \\phi(n)$$"
   ]
  },
  {
   "attachments": {},
   "cell_type": "markdown",
   "metadata": {},
   "source": [
    "b) We will now show that the Jordan Wigner transformation given by,\n",
    "$$\\phi(n)=\\left(\\prod_{l<n} i \\sigma_3(l)\\right) \\sigma^{-}(n)$$\n",
    "$$\\phi^{\\dagger}(n)=\\left(\\prod_{l<n} -i \\sigma_3(l)\\right) \\sigma^{+}(n)$$\n",
    "is a faithful transformation i.e. it preserves the Fermionic algebra.\n",
    "$$\\left\\{\\phi^{\\dagger}(n), \\phi(m)\\right\\}=\\delta_{m n}$$\n",
    "\n",
    "$$\\left\\{\\phi(n), \\phi(m)\\right\\}=0$$"
   ]
  },
  {
   "attachments": {},
   "cell_type": "markdown",
   "metadata": {},
   "source": [
    "c) We shall now rewrite the in terms of spin operators by means of the Jordan Wigner transformation which we explored in (b). Our full lattice Hamiltonian reads as,\n",
    "$$H=-i x \\sum_{n=0}^{N-1}\\left[\\phi^{\\dagger}(n) e^{i \\theta(n)} \\phi(n+1)-\\text { h.c. }\\right]+\\mu \\sum_{n=0}^{N-1}(-1)^n \\phi^{\\dagger}(n) \\phi(n)+\\sum_{n=0}^{N-1} L^2(n)$$\n",
    "substituting the spin operators we have,\n",
    "$$H=-i x \\sum_{n=0}^{N-1}\\left[\\left(\\prod_{l<n} -i \\sigma_3(l)\\right) \\sigma^{+}(n) e^{i \\theta(n)} \\left(\\prod_{l<n} i \\sigma_3(l)\\right) \\sigma^{-}(n+1)-\\text { h.c. }\\right]+\\mu \\sum_{n=0}^{N-1}(-1)^n \\left(\\prod_{l<n} -i \\sigma_3(l)\\right) \\sigma^{+}(n) \\left(\\prod_{l<n} i \\sigma_3(l)\\right) \\sigma^{-}(n)+\\sum_{n=0}^{N-1} L^2(n)$$\n",
    "the Jordan-Wigner strings i.e. the product of the Pauli Z operators that are non-local, cancel out almost completely to leave,\n",
    "$$H=-i x \\sum_{n=0}^{N-1}\\left[\\sigma^{+}(n) e^{i \\theta(n)}  \\sigma_3(n) \\sigma^{-}(n+1)-\\text { h.c. }\\right]+\\mu \\sum_{n=0}^{N-1}(-1)^n \\sigma^{+}(n)  \\sigma^{-}(n)+\\sum_{n=0}^{N-1} L^2(n)$$\n",
    "We know that,\n",
    "$$\\left[\\sigma^{+}(n) ,\\sigma^{-}(m)\\right] = 2 \\delta_{nm} \\sigma_3(n)$$\n",
    "$$\\left[\\sigma^{\\pm}(n) ,\\sigma_3(n)\\right] = 0$$\n",
    "and we can commute the $Z$ Pauli through the exponential since it is just a scalar, thus we have,\n",
    "$$H=-x \\sum_{n=0}^{N-1}\\left[\\sigma^{+}(n) e^{i \\theta(n)} \\sigma^{-}(n+1)+\\text { h.c. }\\right]+\\frac{\\mu}{2} \\sum_{n=0}^{N-1}(-1)^n \\sigma_3(n)+\\sum_{n=0}^{N-1} L^2(n)$$\n"
   ]
  },
  {
   "attachments": {},
   "cell_type": "markdown",
   "metadata": {},
   "source": [
    "d) We are given the transformations,\n",
    "$$s^{-}(n)=\\prod_{l<n} e^{-i \\theta(l)} \\sigma^{-}(n)$$\n",
    "$$s^{+}(n)=\\prod_{l<n} e^{i \\theta^{\\dagger}(l)} \\sigma^{+}(n)$$\n",
    "we need to invert these in order to substitute them into the Hamiltonian,\n",
    "$$s^{-}(n)=\\prod_{l<n} e^{-i \\theta(l)} \\sigma^{-}(n)$$\n",
    "$$s^{+}(n)=\\prod_{l<n} e^{i \\theta^{\\dagger}(l)} \\sigma^{+}(n)$$"
   ]
  },
  {
   "attachments": {},
   "cell_type": "markdown",
   "metadata": {},
   "source": [
    "e) If we set periodic boundary conditions i.e.\n",
    "$$L(N) = L(0)$$\n",
    "the topology of the lattice reduced to that of a circle. From the definition of the gauge field, we would have,\n",
    "$$L(N)=L(N-1)+q(N)$$\n",
    "Doing this recursively, we have,\n",
    "$$L(N)=\\sum^{N}_{i=1} q(i) + L(0)$$\n",
    "From the boundary conditions we would have,\n",
    "$$\\sum^{N}_{i=1}q(i) = 0$$\n",
    "Thus, the gauge field cannot be eliminated."
   ]
  }
 ],
 "metadata": {
  "kernelspec": {
   "display_name": "Python 3 (ipykernel)",
   "language": "python",
   "name": "python3"
  },
  "language_info": {
   "codemirror_mode": {
    "name": "ipython",
    "version": 3
   },
   "file_extension": ".py",
   "mimetype": "text/x-python",
   "name": "python",
   "nbconvert_exporter": "python",
   "pygments_lexer": "ipython3",
   "version": "3.9.13"
  }
 },
 "nbformat": 4,
 "nbformat_minor": 2
}
