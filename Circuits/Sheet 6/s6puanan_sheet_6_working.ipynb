{
 "cells": [
  {
   "attachments": {},
   "cell_type": "markdown",
   "metadata": {},
   "source": [
    "# Exercises for Introduction to Quantum Computing"
   ]
  },
  {
   "attachments": {},
   "cell_type": "markdown",
   "metadata": {},
   "source": [
    "Name: Pugazharasu Anancia Devaneyan (s6puanan) <br />\n",
    "Matriculation number: 3300280"
   ]
  },
  {
   "cell_type": "code",
   "execution_count": 1,
   "metadata": {},
   "outputs": [],
   "source": [
    "import numpy as np\n",
    "import qiskit \n",
    "import qiskit.quantum_info as qi\n",
    "import qiskit.quantum_info as quantu_info\n",
    "from qiskit import IBMQ, Aer\n",
    "from qiskit.providers.ibmq import least_busy\n",
    "from qiskit import QuantumCircuit, transpile, execute\n",
    "import math\n",
    "from qiskit.visualization import plot_histogram\n",
    "from qiskit.circuit.library import QFT\n",
    "from qiskit.providers.aer import Aer"
   ]
  },
  {
   "attachments": {},
   "cell_type": "markdown",
   "metadata": {},
   "source": [
    "## 1. Multiplication by Quantum Fourier Transform"
   ]
  },
  {
   "attachments": {},
   "cell_type": "markdown",
   "metadata": {},
   "source": [
    "In this exercise sheet we would like to implement a Quantum multiplier i.e. a Quantum circuit that could multiply two numbers stored in two quantum registers upto modulo $2^{n}$ where $n$ is the number of Qubits in either of the Quantum registers."
   ]
  },
  {
   "attachments": {},
   "cell_type": "markdown",
   "metadata": {},
   "source": [
    "a) The position operator acting on the first quantum register is defined as,\n",
    "$$\\hat{x}=\\sum_x x|x\\rangle\\langle x|$$\n",
    "and the corresponding momentum operator acting on the first is defined to be,\n",
    "$$\\hat{p}_{x} = F^{\\dagger}_{x} \\hat{x} F_{x}$$\n",
    "where $F_x \\equiv \\mathrm{qFT}_x$.\n",
    "We have two quantum registers,\n",
    "$$|x \\rangle |y \\rangle = |x,y \\rangle$$\n",
    "We are to prove that,\n",
    "$$e^{\\mathrm{i} \\hat{x} \\hat{p}_y}=F_y^{\\dagger} e^{\\mathrm{i} \\hat{x} \\hat{y}} F_y$$\n",
    "We shall first expand out the momentum operator in the L.H.S,\n",
    "$$e^{\\mathrm{i} \\hat{x} \\hat{p}_y}= e^{\\mathrm{i} \\hat{x} F^{\\dagger}_{y} \\hat{y} F_{y}}=$$\n",
    "Since does not act on , we can rewrite this to be,\n",
    "$$e^{\\mathrm{i} \\hat{x} \\hat{p}_y}= e^{F^{\\dagger}_{y}(\\mathrm{i} \\hat{x} \\hat{y})F_{y}}=$$\n",
    "We know that,\n",
    "$$e^{P.A.P^{-1}} = Pe^{A}P^{-1}$$\n",
    "where $A$ is some square matrix and $P$ is an invertible matrix. We see that this identity is exactly what we need, substituting $A = \\mathrm{i} \\hat{x} \\hat{y}$ and $P = F^{\\dagger}_{y}$, we have\n",
    "$$e^{\\mathrm{i} \\hat{x} \\hat{p}_y}=F_y^{\\dagger} e^{\\mathrm{i} \\hat{x} \\hat{y}} F_y$$\n",
    "Hence, proved."
   ]
  },
  {
   "attachments": {},
   "cell_type": "markdown",
   "metadata": {},
   "source": [
    "b) We are to show that,\n",
    "$$e^{ixy} = \\prod^{n}_{k,l =1}e^{ix_{k} y_{l} 2^{n-k-l}}$$\n",
    "Let's begin by writing down $x$ and $y$ in their binary representations\n",
    "$$x = \\sum^{k=1}_{n}x_{k} 2^{n-k}$$\n",
    "$$y = \\sum^{l=1}_{n}y_{l} 2^{n-l}$$\n",
    "thus, we have,\n",
    "$$e^{ixy} = e^{i \\sum^{n}_{k,l=1}x_{k} 2^{n-k}.y_{l} 2^{n-l}}$$\n",
    "$$e^{ixy} = e^{i \\sum^{n}_{l,k}x_{k} y_{l} 2^{n-k-l}}$$\n",
    "$$e^{ixy} = \\prod^{n}_{k,l =1}e^{ix_{k} y_{l} 2^{n-k-l}}$$\n",
    "Hence, proven."
   ]
  },
  {
   "attachments": {},
   "cell_type": "markdown",
   "metadata": {},
   "source": [
    "c) Using the previous results, we are to show that,\n",
    "$$e^{2 \\pi \\mathrm{i} \\hat{x} \\hat{p}_y / 2^n}|x, y\\rangle=\\left|x, x+y \\quad \\bmod 2^n\\right\\rangle$$"
   ]
  },
  {
   "attachments": {},
   "cell_type": "markdown",
   "metadata": {},
   "source": [
    "d) Now, consider three quantum registers |x⟩, |y⟩, and |z⟩ with n qubits each. Based on\n",
    "the previous results, how can one implement the multiply-add operation defined as"
   ]
  },
  {
   "attachments": {},
   "cell_type": "markdown",
   "metadata": {},
   "source": [
    "e) Implement this multiply-add operation in Qiskit (3 points)."
   ]
  },
  {
   "cell_type": "code",
   "execution_count": null,
   "metadata": {},
   "outputs": [],
   "source": []
  }
 ],
 "metadata": {
  "kernelspec": {
   "display_name": "base",
   "language": "python",
   "name": "python3"
  },
  "language_info": {
   "codemirror_mode": {
    "name": "ipython",
    "version": 3
   },
   "file_extension": ".py",
   "mimetype": "text/x-python",
   "name": "python",
   "nbconvert_exporter": "python",
   "pygments_lexer": "ipython3",
   "version": "3.9.13"
  },
  "orig_nbformat": 4
 },
 "nbformat": 4,
 "nbformat_minor": 2
}
