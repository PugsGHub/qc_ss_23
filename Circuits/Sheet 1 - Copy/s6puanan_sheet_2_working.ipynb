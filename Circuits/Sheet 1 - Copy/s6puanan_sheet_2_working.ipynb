{
 "cells": [
  {
   "attachments": {},
   "cell_type": "markdown",
   "metadata": {},
   "source": [
    "# Exercises for Introduction to Quantum Computing"
   ]
  },
  {
   "attachments": {},
   "cell_type": "markdown",
   "metadata": {},
   "source": [
    "Name: Pugazharasu Anancia Devaneyan (s6puanan) <br />\n",
    "Matriculation number: 3300280"
   ]
  },
  {
   "cell_type": "code",
   "execution_count": 3,
   "metadata": {},
   "outputs": [],
   "source": [
    "import numpy as np\n",
    "import qiskit as qi\n",
    "from qiskit import IBMQ, Aer\n",
    "from qiskit.providers.ibmq import least_busy\n",
    "from qiskit import QuantumCircuit, transpile\n",
    "\n",
    "from qiskit.visualization import plot_histogram"
   ]
  },
  {
   "attachments": {},
   "cell_type": "markdown",
   "metadata": {},
   "source": [
    "## 1. Quantum Fourier Transform"
   ]
  },
  {
   "attachments": {},
   "cell_type": "markdown",
   "metadata": {},
   "source": [
    "The quantum Fourier transform operation acting on a state is a unitary operation, thus for\n",
    "$$\\mathrm{qFT}^{\\dagger}|\\phi\\rangle=|100\\rangle$$\n",
    "we simply act with a qFT on both sides of the equation to get,\n",
    "$$|\\phi\\rangle =\\mathrm{qFT}|100\\rangle$$\n",
    "Thus, to obtain the state, we simply need to evaluate the RHS. This can be done as the qFT in the computational basis is expressed as,\n",
    "$$\\mathrm{qFT}|j\\rangle=\\frac{1}{\\sqrt{8}} \\sum_{k=0}^7 e^{2 \\pi i \\frac{j k}{8}}|k\\rangle$$"
   ]
  },
  {
   "attachments": {},
   "cell_type": "markdown",
   "metadata": {},
   "source": [
    "Therefore, we have\n",
    "$$|\\phi\\rangle = \\frac{\\sqrt{2}}{4}|000\\rangle+\\left(-\\frac{1}{4}-\\frac{i}{4}\\right)|001\\rangle+\\frac{\\sqrt{2} i}{4}|010\\rangle+\\left(\\frac{1}{4}-\\frac{i}{4}\\right)|011\\rangle-\\frac{\\sqrt{2}}{4}|100\\rangle+\\left(\\frac{1}{4}+\\frac{i}{4}\\right)|101\\rangle-\\frac{\\sqrt{2} i}{4}|110\\rangle+\\left(-\\frac{1}{4}+\\frac{i}{4}\\right)|111\\rangle$$\n",
    "The probability of measuring the output 100 from the state $|\\phi\\rangle$ is given by computing the inner product of $|\\phi\\rangle$ with $|100\\rangle$,\n",
    "$$ \\langle 100 |\\phi\\rangle = {\\left(-\\frac{\\sqrt{2}}{4}\\right)}^{2} = \\frac{1}{8}$$"
   ]
  },
  {
   "attachments": {},
   "cell_type": "markdown",
   "metadata": {},
   "source": [
    "The inverse qFT circuit can be implemented by simply reversing the order of unitaries and inverting the angles of the phase gates applied i.e. $R_{h} \\rightarrow R^{-1}_{h}$, thus we have:"
   ]
  },
  {
   "cell_type": "code",
   "execution_count": 42,
   "metadata": {},
   "outputs": [
    {
     "data": {
      "image/png": "[encoded data removed]",
      "text/plain": [
       "<Figure size 872.774x284.278 with 1 Axes>"
      ]
     },
     "execution_count": 42,
     "metadata": {},
     "output_type": "execute_result"
    }
   ],
   "source": [
    "inv_qFT = QuantumCircuit(3)\n",
    "inv_qFT.h(2)\n",
    "inv_qFT.cp(-np.pi/2, 2, 1)\n",
    "inv_qFT.h(1)\n",
    "inv_qFT.cp(-np.pi/4, 2, 0)\n",
    "inv_qFT.cp(-np.pi/2, 1, 0)\n",
    "inv_qFT.h(0)\n",
    "inv_qFT.draw('mpl')"
   ]
  },
  {
   "cell_type": "code",
   "execution_count": 21,
   "metadata": {},
   "outputs": [],
   "source": [
    "def qft_rotations(circuit, n):\n",
    "    \"\"\"Performs qft on the first n qubits in circuit (without swaps)\"\"\"\n",
    "    if n == 0:\n",
    "        return circuit\n",
    "    n -= 1\n",
    "    circuit.h(n)\n",
    "    for qubit in range(n):\n",
    "        circuit.cp(np.pi/2**(n-qubit), qubit, n)\n",
    "    # At the end of our function, we call the same function again on\n",
    "    # the next qubits (we reduced n by one earlier in the function)\n",
    "    qft_rotations(circuit, n)"
   ]
  },
  {
   "cell_type": "code",
   "execution_count": 23,
   "metadata": {},
   "outputs": [
    {
     "data": {
      "image/png": "[encoded data removed]",
      "text/plain": [
       "<Figure size 956.385x284.278 with 1 Axes>"
      ]
     },
     "execution_count": 23,
     "metadata": {},
     "output_type": "execute_result"
    }
   ],
   "source": [
    "def swap_registers(circuit, n):\n",
    "    for qubit in range(n//2):\n",
    "        circuit.swap(qubit, n-qubit-1)\n",
    "    return circuit\n",
    "\n",
    "def qft(circuit, n):\n",
    "    \"\"\"QFT on the first n qubits in circuit\"\"\"\n",
    "    qft_rotations(circuit, n)\n",
    "    swap_registers(circuit, n)\n",
    "    return circuit\n",
    "\n",
    "# Let's see how it looks:\n",
    "qc = QuantumCircuit(3)\n",
    "qft(qc,3)\n",
    "qc.draw('mpl')"
   ]
  },
  {
   "cell_type": "code",
   "execution_count": 26,
   "metadata": {},
   "outputs": [
    {
     "data": {
      "text/latex": [
       "$$ |001\\rangle$$"
      ],
      "text/plain": [
       "<IPython.core.display.Latex object>"
      ]
     },
     "execution_count": 26,
     "metadata": {},
     "output_type": "execute_result"
    }
   ],
   "source": [
    "state = qi.quantum_info.Statevector.from_label('001')\n",
    "state.draw(output='latex')"
   ]
  },
  {
   "cell_type": "code",
   "execution_count": 28,
   "metadata": {},
   "outputs": [
    {
     "data": {
      "text/latex": [
       "$$\\frac{\\sqrt{2}}{4} |000\\rangle+(- \\frac{1}{4} - \\frac{i}{4}) |001\\rangle+\\frac{\\sqrt{2} i}{4} |010\\rangle+(\\frac{1}{4} - \\frac{i}{4}) |011\\rangle- \\frac{\\sqrt{2}}{4} |100\\rangle+(\\frac{1}{4} + \\frac{i}{4}) |101\\rangle- \\frac{\\sqrt{2} i}{4} |110\\rangle+(- \\frac{1}{4} + \\frac{i}{4}) |111\\rangle$$"
      ],
      "text/plain": [
       "<IPython.core.display.Latex object>"
      ]
     },
     "execution_count": 28,
     "metadata": {},
     "output_type": "execute_result"
    }
   ],
   "source": [
    "state = state.evolve(qc)\n",
    "state.draw(output='latex')"
   ]
  },
  {
   "attachments": {},
   "cell_type": "markdown",
   "metadata": {},
   "source": [
    "## 2. Deutsch–Jozsa algorithm"
   ]
  },
  {
   "attachments": {},
   "cell_type": "markdown",
   "metadata": {},
   "source": [
    "We wish to implement an Oracle $U_f$ with the action\n",
    "$$U_{f} | q_{0} q_{1} q_{2} \\rangle = |q_{0}q_{1}(q_{2} \\oplus f(q_{0},q_{1})) \\rangle$$\n",
    "This is given to us via the quantum circuit,"
   ]
  },
  {
   "cell_type": "code",
   "execution_count": 37,
   "metadata": {},
   "outputs": [
    {
     "data": {
      "image/png": "[encoded data removed]",
      "text/plain": [
       "<Figure size 454.719x284.278 with 1 Axes>"
      ]
     },
     "execution_count": 37,
     "metadata": {},
     "output_type": "execute_result"
    }
   ],
   "source": [
    "oracle = QuantumCircuit(3)\n",
    "oracle.h(0)\n",
    "oracle.h(2)\n",
    "oracle.cx(2,0)\n",
    "oracle.h(0)\n",
    "oracle.cz(2,1)\n",
    "oracle.h(2)\n",
    "oracle.draw('mpl')"
   ]
  },
  {
   "attachments": {},
   "cell_type": "markdown",
   "metadata": {},
   "source": [
    "We can check if this does indeed implement the Oracle we desire by means of applying to an arbitary state,"
   ]
  },
  {
   "cell_type": "code",
   "execution_count": 35,
   "metadata": {},
   "outputs": [
    {
     "data": {
      "text/latex": [
       "$$ |101\\rangle$$"
      ],
      "text/plain": [
       "<IPython.core.display.Latex object>"
      ]
     },
     "execution_count": 35,
     "metadata": {},
     "output_type": "execute_result"
    }
   ],
   "source": [
    "state = qi.quantum_info.Statevector.from_label('001')\n",
    "state = state.evolve(oracle)\n",
    "state.draw(output='latex')"
   ]
  },
  {
   "attachments": {},
   "cell_type": "markdown",
   "metadata": {},
   "source": [
    "Now that we have shown that the quantum circuit implements an Oracle, we can check if the Oracle is balanced or constant by means of implementing a truth table for it,\n",
    "<center>\n",
    "\n",
    "| $ q_0 q_1 q_2 $ | $U_f$ |\n",
    "| - | - |\n",
    "| 000 | 000 |\n",
    "| 001 | 100 |\n",
    "| 010 | 011 |\n",
    "| 011 | 010 |\n",
    "| 100 | 101 |\n",
    "| 101 | 100 |\n",
    "| 110 | 110 |\n",
    "| 111 | 111 |\n",
    "\n",
    "</center>\n",
    "\n",
    "We can see that the Oracle is balanced!"
   ]
  },
  {
   "cell_type": "code",
   "execution_count": 1,
   "metadata": {},
   "outputs": [],
   "source": [
    "n =3\n",
    "input_state = \"100\""
   ]
  },
  {
   "cell_type": "code",
   "execution_count": null,
   "metadata": {},
   "outputs": [],
   "source": [
    "for qubit in range(len(input_state)):\n",
    "    if input_state[i] == '1'"
   ]
  },
  {
   "cell_type": "code",
   "execution_count": 5,
   "metadata": {},
   "outputs": [],
   "source": [
    "CNOT_1 = Matrix([[1, 0, 0, 0], [0, 1, 0, 0], [0, 0, 0, 1],[0, 0, 1, 0]])\n",
    "#CNOT_2 = Matrix([[0, 1, 0, 0], [1, 0, 0, 0], [0, 0, 1, 0],[0, 0, 0, 1]])\n",
    "CNOT_3 = Matrix([[1, 0, 0, 0], [0, 0, 0, 1], [0, 0, 1, 0],[0, 1, 0, 0]])\n",
    "Hadamard = 0.5 * Matrix([[1, 1, 1, 1], [1, -1, 1, -1], [1, 1, -1, -1],[1, -1, -1, 1]])\n",
    "Hadamard_1 = Matrix([[two, two, 0, 0], [two, -two, 0, 0], [0, 0, 1, 0],[0, 0, 0, 1]])\n",
    "Hadamard_2 = Matrix([[1, 0, 0, 0], [0, 1, 0, 0], [0, 0, two, two],[0, 0, two, -two]])"
   ]
  },
  {
   "cell_type": "code",
   "execution_count": 12,
   "metadata": {},
   "outputs": [
    {
     "data": {
      "text/latex": [
       "$\\displaystyle \\left[\\begin{matrix}0.707106781186547\\\\0\\\\-0.707106781186547\\\\0\\end{matrix}\\right]$"
      ],
      "text/plain": [
       "Matrix([\n",
       "[ 0.707106781186547],\n",
       "[                 0],\n",
       "[-0.707106781186547],\n",
       "[                 0]])"
      ]
     },
     "metadata": {},
     "output_type": "display_data"
    }
   ],
   "source": [
    "state_vector_1 = Matrix([[two], [0], [-two],[0]])\n",
    "display(state_vector_1)"
   ]
  },
  {
   "cell_type": "code",
   "execution_count": 13,
   "metadata": {},
   "outputs": [
    {
     "data": {
      "text/latex": [
       "$\\displaystyle \\left[\\begin{matrix}0.707106781186547\\\\-0.5\\\\-0.5\\\\0\\end{matrix}\\right]$"
      ],
      "text/plain": [
       "Matrix([\n",
       "[0.707106781186547],\n",
       "[             -0.5],\n",
       "[             -0.5],\n",
       "[                0]])"
      ]
     },
     "metadata": {},
     "output_type": "display_data"
    }
   ],
   "source": [
    "display(CNOT_3*(Hadamard_2 * state_vector_1))"
   ]
  },
  {
   "cell_type": "code",
   "execution_count": 42,
   "metadata": {},
   "outputs": [],
   "source": [
    "CNOT_4 = Hadamard * CNOT_1 * Hadamard"
   ]
  },
  {
   "attachments": {},
   "cell_type": "markdown",
   "metadata": {},
   "source": [
    "Thus, to prove the identity we shall first evaluate the LHS,"
   ]
  },
  {
   "cell_type": "code",
   "execution_count": 20,
   "metadata": {},
   "outputs": [
    {
     "data": {
      "image/png": "[encoded data removed]",
      "text/plain": [
       "<Figure size 370.906x200.667 with 1 Axes>"
      ]
     },
     "execution_count": 20,
     "metadata": {},
     "output_type": "execute_result"
    }
   ],
   "source": [
    "circ_3 = QuantumCircuit(2)\n",
    "circ_3.h(0)\n",
    "circ_3.cx(0,1)\n",
    "circ_3.h(0)\n",
    "circ_3.draw('mpl')"
   ]
  },
  {
   "attachments": {},
   "cell_type": "markdown",
   "metadata": {},
   "source": [
    "this can be written as a matrix product,\n",
    "$$(\\mathbb{I} \\otimes H )CNOT_{1,2}(\\mathbb{I} \\otimes H ) = \\begin{pmatrix}\n",
    "1 & 0 & 0 & 0 \\\\\n",
    "0 & 1 & 0 & 0 \\\\\n",
    "0 & 0 & \\frac{1}{\\sqrt{2}} & \\frac{1}{\\sqrt{2}}\\\\\n",
    "0 & 0 & \\frac{1}{\\sqrt{2}} & \\frac{-1}{\\sqrt{2}}\n",
    "\\end{pmatrix} \\begin{pmatrix}\n",
    "1 & 0 & 0 & 0 \\\\\n",
    "0 & 1 & 0 & 0 \\\\\n",
    "0 & 0 & 0 & 1 \\\\\n",
    "0 & 0 & 1 & 0\n",
    "\\end{pmatrix} \\begin{pmatrix}\n",
    "1 & 0 & 0 & 0 \\\\\n",
    "0 & 1 & 0 & 0 \\\\\n",
    "0 & 0 & \\frac{1}{\\sqrt{2}} & \\frac{1}{\\sqrt{2}}\\\\\n",
    "0 & 0 & \\frac{1}{\\sqrt{2}} & \\frac{-1}{\\sqrt{2}}\n",
    "\\end{pmatrix}$$\n",
    "\n",
    "$$(\\mathbb{I} \\otimes H )CNOT_{1,2}(\\mathbb{I} \\otimes H ) = $$"
   ]
  },
  {
   "cell_type": "code",
   "execution_count": 35,
   "metadata": {},
   "outputs": [
    {
     "data": {
      "text/latex": [
       "$\\displaystyle \\left[\\begin{matrix}1.0 a\\\\1.0 b\\\\d\\\\c\\end{matrix}\\right]$"
      ],
      "text/plain": [
       "Matrix([\n",
       "[1.0*a],\n",
       "[1.0*b],\n",
       "[    d],\n",
       "[    c]])"
      ]
     },
     "metadata": {},
     "output_type": "display_data"
    }
   ],
   "source": [
    "display(Hadamard_1 * CNOT_1 * Hadamard_1 * state_vector)"
   ]
  },
  {
   "attachments": {},
   "cell_type": "markdown",
   "metadata": {},
   "source": [
    "Now to evaluate the RHS,"
   ]
  },
  {
   "cell_type": "code",
   "execution_count": 19,
   "metadata": {},
   "outputs": [
    {
     "data": {
      "image/png": "[encoded data removed]",
      "text/plain": [
       "<Figure size 370.906x200.667 with 1 Axes>"
      ]
     },
     "execution_count": 19,
     "metadata": {},
     "output_type": "execute_result"
    }
   ],
   "source": [
    "circ_4 = QuantumCircuit(2)\n",
    "circ_4.h(1)\n",
    "circ_4.cx(1,0)\n",
    "circ_4.h(1)\n",
    "circ_4.draw('mpl')"
   ]
  },
  {
   "attachments": {},
   "cell_type": "markdown",
   "metadata": {},
   "source": [
    "this can be written as a matrix product,\n",
    "$$(H \\otimes \\mathbb{I})CNOT_{2,1}(H \\otimes \\mathbb{I}) = \\begin{pmatrix}\n",
    "1 & 0 & 0 & 0 \\\\\n",
    "0 & -1 & 0 & 0 \\\\\n",
    "0 & 0 & \\frac{1}{\\sqrt{2}} & \\frac{1}{\\sqrt{2}}\\\\\n",
    "0 & 0 & \\frac{1}{\\sqrt{2}} & \\frac{-1}{\\sqrt{2}}\n",
    "\\end{pmatrix} \\begin{pmatrix}\n",
    "0 & 1 & 0 & 0 \\\\\n",
    "1 & 0 & 0 & 0 \\\\\n",
    "0 & 0 & 1 & 0 \\\\\n",
    "0 & 0 & 0 & 1\n",
    "\\end{pmatrix} \\begin{pmatrix}\n",
    "1 & 0 & 0 & 0 \\\\\n",
    "0 & -1 & 0 & 0 \\\\\n",
    "0 & 0 & \\frac{1}{\\sqrt{2}} & \\frac{1}{\\sqrt{2}}\\\\\n",
    "0 & 0 & \\frac{1}{\\sqrt{2}} & \\frac{-1}{\\sqrt{2}}\n",
    "\\end{pmatrix}$$\n",
    "\n",
    "$$(H \\otimes \\mathbb{I})CNOT_{2,1}(H \\otimes \\mathbb{I}) = $$"
   ]
  },
  {
   "cell_type": "code",
   "execution_count": 43,
   "metadata": {},
   "outputs": [
    {
     "data": {
      "text/latex": [
       "$\\displaystyle \\left[\\begin{matrix}1.0 a\\\\0.707106781186547 c - 0.707106781186547 d\\\\0.707106781186547 b + 0.5 c + 0.5 d\\\\- 0.707106781186547 b + 0.5 c + 0.5 d\\end{matrix}\\right]$"
      ],
      "text/plain": [
       "Matrix([\n",
       "[                                    1.0*a],\n",
       "[0.707106781186547*c - 0.707106781186547*d],\n",
       "[      0.707106781186547*b + 0.5*c + 0.5*d],\n",
       "[     -0.707106781186547*b + 0.5*c + 0.5*d]])"
      ]
     },
     "metadata": {},
     "output_type": "display_data"
    }
   ],
   "source": [
    "display(Hadamard_2 * CNOT_4 * Hadamard_2 * state_vector)"
   ]
  },
  {
   "cell_type": "markdown",
   "metadata": {},
   "source": []
  },
  {
   "attachments": {},
   "cell_type": "markdown",
   "metadata": {},
   "source": [
    "Proving their equivalence upto the equivalence of statevectors and unitary matrices using qiskit,"
   ]
  },
  {
   "cell_type": "code",
   "execution_count": 36,
   "metadata": {},
   "outputs": [
    {
     "data": {
      "text/plain": [
       "True"
      ]
     },
     "execution_count": 36,
     "metadata": {},
     "output_type": "execute_result"
    }
   ],
   "source": [
    "#checking if both the circuits produce the same state vectors\n",
    "from qiskit.quantum_info import Statevector\n",
    "Statevector.from_instruction(circ_3).equiv(Statevector.from_instruction(circ_4))"
   ]
  },
  {
   "cell_type": "code",
   "execution_count": 38,
   "metadata": {},
   "outputs": [
    {
     "data": {
      "text/plain": [
       "True"
      ]
     },
     "execution_count": 38,
     "metadata": {},
     "output_type": "execute_result"
    }
   ],
   "source": [
    "#checking if both the circuits produce the unitary matrix\n",
    "backend_sim = Aer.get_backend('unitary_simulator')\n",
    "job_sim = qi.execute([circ_3, circ_4], backend_sim)\n",
    "result_sim = job_sim.result()\n",
    "unitary1 = result_sim.get_unitary(circ_3)\n",
    "unitary2 = result_sim.get_unitary(circ_4)\n",
    "\n",
    "np.allclose(unitary1, unitary2) "
   ]
  },
  {
   "attachments": {},
   "cell_type": "markdown",
   "metadata": {},
   "source": [
    "## 4. No-Cloning Theorem"
   ]
  },
  {
   "cell_type": "code",
   "execution_count": 37,
   "metadata": {},
   "outputs": [
    {
     "data": {
      "image/png": "[encoded data removed]",
      "text/plain": [
       "<Figure size 203.683x200.667 with 1 Axes>"
      ]
     },
     "execution_count": 37,
     "metadata": {},
     "output_type": "execute_result"
    }
   ],
   "source": [
    "circ_5 = QuantumCircuit(2)\n",
    "circ_5.cx(0,1)\n",
    "circ_5.draw('mpl')"
   ]
  },
  {
   "cell_type": "code",
   "execution_count": 46,
   "metadata": {},
   "outputs": [
    {
     "data": {
      "text/latex": [
       "$$ |01\\rangle$$"
      ],
      "text/plain": [
       "<IPython.core.display.Latex object>"
      ]
     },
     "execution_count": 46,
     "metadata": {},
     "output_type": "execute_result"
    }
   ],
   "source": [
    "state = qi.quantum_info.Statevector.from_label('01')\n",
    "state.draw(output='latex')"
   ]
  },
  {
   "cell_type": "code",
   "execution_count": 49,
   "metadata": {},
   "outputs": [
    {
     "data": {
      "text/latex": [
       "$$ |11\\rangle$$"
      ],
      "text/plain": [
       "<IPython.core.display.Latex object>"
      ]
     },
     "execution_count": 49,
     "metadata": {},
     "output_type": "execute_result"
    }
   ],
   "source": [
    "state = state.evolve(circ_5)\n",
    "state.draw(output='latex')"
   ]
  },
  {
   "cell_type": "markdown",
   "metadata": {},
   "source": []
  },
  {
   "cell_type": "code",
   "execution_count": 51,
   "metadata": {},
   "outputs": [
    {
     "data": {
      "image/png": "[encoded data removed]",
      "text/plain": [
       "<Figure size 287.294x200.667 with 1 Axes>"
      ]
     },
     "execution_count": 51,
     "metadata": {},
     "output_type": "execute_result"
    }
   ],
   "source": [
    "circ_6 = QuantumCircuit(2)\n",
    "circ_6.h(1)\n",
    "circ_6.cx(1,0)\n",
    "circ_6.draw('mpl')"
   ]
  },
  {
   "cell_type": "code",
   "execution_count": 56,
   "metadata": {},
   "outputs": [
    {
     "data": {
      "text/latex": [
       "$$\\frac{\\sqrt{2}}{2} |00\\rangle- \\frac{\\sqrt{2}}{2} |01\\rangle$$"
      ],
      "text/plain": [
       "<IPython.core.display.Latex object>"
      ]
     },
     "execution_count": 56,
     "metadata": {},
     "output_type": "execute_result"
    }
   ],
   "source": [
    "state_2 = qi.quantum_info.Statevector.from_label('0-')\n",
    "state_2.draw(output='latex')"
   ]
  },
  {
   "cell_type": "code",
   "execution_count": 57,
   "metadata": {},
   "outputs": [
    {
     "data": {
      "text/latex": [
       "$$\\frac{1}{2} |00\\rangle- \\frac{1}{2} |01\\rangle- \\frac{1}{2} |10\\rangle+\\frac{1}{2} |11\\rangle$$"
      ],
      "text/plain": [
       "<IPython.core.display.Latex object>"
      ]
     },
     "execution_count": 57,
     "metadata": {},
     "output_type": "execute_result"
    }
   ],
   "source": [
    "state_2 = state_2.evolve(circ_6)\n",
    "state_2.draw(output='latex')"
   ]
  },
  {
   "cell_type": "code",
   "execution_count": null,
   "metadata": {},
   "outputs": [],
   "source": []
  }
 ],
 "metadata": {
  "kernelspec": {
   "display_name": "base",
   "language": "python",
   "name": "python3"
  },
  "language_info": {
   "codemirror_mode": {
    "name": "ipython",
    "version": 3
   },
   "file_extension": ".py",
   "mimetype": "text/x-python",
   "name": "python",
   "nbconvert_exporter": "python",
   "pygments_lexer": "ipython3",
   "version": "3.9.13"
  },
  "orig_nbformat": 4
 },
 "nbformat": 4,
 "nbformat_minor": 2
}
