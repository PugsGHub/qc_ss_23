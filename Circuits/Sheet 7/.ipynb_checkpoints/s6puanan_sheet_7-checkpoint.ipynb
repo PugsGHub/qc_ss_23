{
 "cells": [
  {
   "cell_type": "markdown",
   "metadata": {},
   "source": [
    "# Exercises for Introduction to Quantum Computing"
   ]
  },
  {
   "cell_type": "markdown",
   "metadata": {},
   "source": [
    "Name: Pugazharasu Anancia Devaneyan (s6puanan) <br />\n",
    "Matriculation number: 3300280"
   ]
  },
  {
   "cell_type": "code",
   "execution_count": 7,
   "metadata": {},
   "outputs": [],
   "source": [
    "import numpy as np\n",
    "import sympy\n",
    "import sys \n",
    "import fractions \n",
    "import random \n",
    "import qiskit \n",
    "import qiskit.quantum_info as qi\n",
    "import qiskit.quantum_info as quantu_info\n",
    "import math\n",
    "import matplotlib as plt\n",
    "from qiskit import Aer\n",
    "from qiskit.utils import QuantumInstance\n",
    "from qiskit import IBMQ\n",
    "from qiskit.providers.ibmq import least_busy\n",
    "from qiskit import QuantumCircuit, transpile, execute\n",
    "from qiskit.visualization import plot_histogram\n",
    "from qiskit.circuit.library import QFT\n",
    "from qiskit.providers.aer import Aer"
   ]
  },
  {
   "cell_type": "markdown",
   "metadata": {},
   "source": [
    "## 1. Shor’s algorithm"
   ]
  },
  {
   "cell_type": "markdown",
   "metadata": {},
   "source": [
    "We have the unitary,\n",
    "$$\\begin{aligned}\n",
    "& U_{13}|y\\rangle=|13 y \\quad \\bmod 15\\rangle \\quad \\text { for } \\quad y<15, \\\\\n",
    "& U_{13}|15\\rangle=|15\\rangle\n",
    "\\end{aligned}$$\n",
    "to compute it's eigenvalues and eigenvectors, we use the formula from the lecture,\n",
    "$$\\left |u_s\\right\\rangle=\\frac{1}{\\sqrt{r}} \\sum_{h=0}^{r-1} \\exp \\left(\\frac{-2 \\pi i s h}{r}\\right)\\left|x^h(\\bmod N)\\right\\rangle, \\quad 0 \\leq s \\leq r-1$$\n",
    "where $\\left |u_s\\right\\rangle$ is an eigenvector of $U_{x}$ with the eigenvalue,\n",
    "$$\\exp{\\left(\\frac{2 \\pi i s}{r}\\right)}$$\n",
    "Thus, for $x=13$, we have the eigenvalues,\n",
    "$$\\{1,i,-1,-i\\}$$\n",
    "and their respective eigenvectors\n",
    "$$\\frac{1}{2} \\left( |1 \\rangle + | 13 \\rangle + | 4 \\rangle + |7 \\rangle \\right)$$\n",
    "$$\\frac{1}{2} \\left( |1 \\rangle -i | 13 \\rangle - | 4 \\rangle + i|7 \\rangle \\right) $$\n",
    "$$ $$\n",
    "$$\\frac{1}{2} \\left( |1 \\rangle -i | 13 \\rangle  | 4 \\rangle - i|7 \\rangle \\right)  $$\n",
    "Now to find $S \\subset N$ such that,\n",
    "$$\\frac{1}{\\sqrt{N}} \\sum_{i \\in S}|i\\rangle=|12\\rangle$$\n",
    "where $| i \\rangle \\in S$. Looking at the eigenvectors we can see that the set $S$ is an improper subset of $N$, that is it is $N$ itself as summing all the elements in $N$ results in $|12\\rangle$"
   ]
  },
  {
   "cell_type": "markdown",
   "metadata": {},
   "source": [
    "## 2.  Breaking RSA"
   ]
  },
  {
   "cell_type": "markdown",
   "metadata": {},
   "source": [
    "a) We have the key pair,\n",
    "$$\\{e, N\\}=\\{20579,121130231\\}$$\n",
    "We will use Shor's algorithm to factor $N$. For that first we pick a random number $1<a<N$, and compute\n",
    "$$K = gcd(a,N)$$\n",
    "For this we will use Euclid's algorithm."
   ]
  },
  {
   "cell_type": "code",
   "execution_count": 19,
   "metadata": {},
   "outputs": [
    {
     "name": "stdout",
     "output_type": "stream",
     "text": [
      "4469197\n",
      "1\n"
     ]
    }
   ],
   "source": [
    "def gcd(m,n):\n",
    "    \"\"\"Obtains the greatest common divisor between two numbers using Euclid's algorithm\n",
    "\n",
    "    Args:\n",
    "        m (int): Number 1\n",
    "        n (int): Number 2\n",
    "\n",
    "    Returns:\n",
    "        int : Returns the greatest common divisor between the two numbers that were input\n",
    "    \"\"\"\n",
    "    if m< n:\n",
    "        (m,n) = (n,m)\n",
    "    if(m%n) == 0:\n",
    "        return n\n",
    "    else:\n",
    "        return (gcd(n, m % n)) # recursion taking place\n",
    "\n",
    "#setting N\n",
    "N = 121130231\n",
    "\n",
    "#Picking a random number 1 < a < N\n",
    "np.random.seed(1)\n",
    "a = random.randint(2, N)\n",
    "\n",
    "#Outputting the results\n",
    "print(a)\n",
    "    \n",
    "print(gcd(a,N))"
   ]
  },
  {
   "cell_type": "markdown",
   "metadata": {},
   "source": [
    "Since the GCD is $1$ between the random number and $N$, we would need to find the period then, we do this by means of a classical algorithm"
   ]
  },
  {
   "cell_type": "code",
   "execution_count": 20,
   "metadata": {},
   "outputs": [
    {
     "name": "stdout",
     "output_type": "stream",
     "text": [
      "12110700\n"
     ]
    }
   ],
   "source": [
    "def find_period_classical(a, N):\n",
    "    \"\"\"Finds the period r of a^r mod N by means of brute forcing\n",
    "\n",
    "    Args:\n",
    "        a (int): the number we raise to the power\n",
    "        N (int): the number we modulo by\n",
    "\n",
    "    Returns:\n",
    "        int : Returns the period r\n",
    "    \"\"\"\n",
    "    r = 1\n",
    "    t = a\n",
    "    while t != 1:\n",
    "        t *= a\n",
    "        t %= N\n",
    "        r += 1\n",
    "    return r\n",
    "\n",
    "r = find_period_classical(a, N)\n",
    "\n",
    "print(r)"
   ]
  },
  {
   "cell_type": "markdown",
   "metadata": {},
   "source": [
    "Now let's check if the period $r$ is even,"
   ]
  },
  {
   "cell_type": "code",
   "execution_count": 21,
   "metadata": {},
   "outputs": [
    {
     "name": "stdout",
     "output_type": "stream",
     "text": [
      "0\n"
     ]
    }
   ],
   "source": [
    "print(r%2)"
   ]
  },
  {
   "cell_type": "markdown",
   "metadata": {},
   "source": [
    "We see that $r$ is indeed even, we can now use the formula, \n",
    "$$p = gcd(a^{\\frac{r}{2}}+1,N)$$\n",
    "and \n",
    "$$q = \\frac{N}{p}$$\n",
    "to compute the prime facors of $N$."
   ]
  },
  {
   "cell_type": "code",
   "execution_count": 22,
   "metadata": {},
   "outputs": [
    {
     "name": "stdout",
     "output_type": "stream",
     "text": [
      "7901 15331\n"
     ]
    }
   ],
   "source": [
    "a = 4469197\n",
    "N = 121130231\n",
    "r = 12110700\n",
    "\n",
    "p = math.gcd(a**int(r/2)+1,N)\n",
    "q = math.gcd(a**int(r/2)-1,N)\n",
    "print(p,q)"
   ]
  },
  {
   "cell_type": "markdown",
   "metadata": {},
   "source": [
    "We find that, \n",
    "$$N = pq$$\n",
    "where $q = 15331$ and $p = 7901$."
   ]
  },
  {
   "cell_type": "markdown",
   "metadata": {},
   "source": [
    "b) Based on the example, the string 'blhhay' maps to the number,\n",
    "$$ blhhay = (1 \\times 26^{5}) + (11 \\times 26^{4}) + (7 \\times 26^{3}) + (7 \\times 26^{2}) + (0 \\times 26) + 24 = 17035900$$\n",
    "We can decrypt this by first figuring out the private key $d$. This we can do since we found from (a) the prime factors of the public key, thus we compute the multiplicate inverse of $e = $, to find that \n",
    "$$d = 20579$$ \n",
    "We can thus now decrypt the message by applying \n",
    "$$M = E^{d}  \\  \\text{mod} \\ N = 17035900^{20579} \\  \\text{mod} \\ 121130231$$\n",
    "we compute this to find that,\n",
    "$$M = 40574$$\n",
    "Now that we have the decrypted message, we simply need to express it in a base-26 number system in order to obtain the message in terms of alphabets"
   ]
  },
  {
   "cell_type": "code",
   "execution_count": 6,
   "metadata": {},
   "outputs": [
    {
     "data": {
      "text/plain": [
       "0"
      ]
     },
     "metadata": {},
     "output_type": "display_data"
    },
    {
     "data": {
      "text/plain": [
       "0"
      ]
     },
     "metadata": {},
     "output_type": "display_data"
    },
    {
     "data": {
      "text/plain": [
       "2"
      ]
     },
     "metadata": {},
     "output_type": "display_data"
    },
    {
     "data": {
      "text/plain": [
       "8"
      ]
     },
     "metadata": {},
     "output_type": "display_data"
    },
    {
     "data": {
      "text/plain": [
       "0"
      ]
     },
     "metadata": {},
     "output_type": "display_data"
    },
    {
     "data": {
      "text/plain": [
       "14"
      ]
     },
     "metadata": {},
     "output_type": "display_data"
    }
   ],
   "source": [
    "#Decrypted message as a number\n",
    "xx = 40574\n",
    "\n",
    "#Decoding the message by representing it using a base-26 number system\n",
    "x1 = int(xx//(26**5))\n",
    "factor_1 = x1 * (26**5)\n",
    "x2 = int((xx - factor_1)//(26**4))\n",
    "factor_2 = x2 * (26**4)\n",
    "x3 = int((xx - factor_1 - factor_2)//(26**3))\n",
    "factor_3 = x3 * (26**3)\n",
    "x4 = int((xx - factor_1 - factor_2 - factor_3)//(26**2))\n",
    "factor_4 = x4 * (26**2)\n",
    "x5 = int((xx - factor_1 - factor_2 - factor_3 - factor_4)//(26**1))\n",
    "factor_5 = x5 * (26)\n",
    "x6 = int(xx - factor_1 - factor_2 - factor_3 - factor_4 - factor_5)\n",
    "display(x1,x2,x3,x4,x5,x6)"
   ]
  },
  {
   "cell_type": "markdown",
   "metadata": {},
   "source": [
    "Using the cipher given the exercise sheet we find that the decrypted message is \"aaciao\""
   ]
  }
 ],
 "metadata": {
  "kernelspec": {
   "display_name": "Python 3 (ipykernel)",
   "language": "python",
   "name": "python3"
  },
  "language_info": {
   "codemirror_mode": {
    "name": "ipython",
    "version": 3
   },
   "file_extension": ".py",
   "mimetype": "text/x-python",
   "name": "python",
   "nbconvert_exporter": "python",
   "pygments_lexer": "ipython3",
   "version": "3.10.6"
  }
 },
 "nbformat": 4,
 "nbformat_minor": 2
}
