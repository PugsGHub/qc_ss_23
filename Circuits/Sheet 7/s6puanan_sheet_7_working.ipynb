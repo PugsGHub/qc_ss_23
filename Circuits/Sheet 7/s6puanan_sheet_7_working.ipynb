{
 "cells": [
  {
   "attachments": {},
   "cell_type": "markdown",
   "metadata": {},
   "source": [
    "# Exercises for Introduction to Quantum Computing"
   ]
  },
  {
   "attachments": {},
   "cell_type": "markdown",
   "metadata": {},
   "source": [
    "Name: Pugazharasu Anancia Devaneyan (s6puanan) <br />\n",
    "Matriculation number: 3300280"
   ]
  },
  {
   "cell_type": "code",
   "execution_count": 1,
   "metadata": {},
   "outputs": [],
   "source": [
    "import numpy as np\n",
    "import qiskit \n",
    "import qiskit.quantum_info as qi\n",
    "import qiskit.quantum_info as quantu_info\n",
    "from qiskit import IBMQ, Aer\n",
    "from qiskit.providers.ibmq import least_busy\n",
    "from qiskit import QuantumCircuit, transpile, execute\n",
    "import math\n",
    "from qiskit.visualization import plot_histogram\n",
    "from qiskit.circuit.library import QFT\n",
    "from qiskit.providers.aer import Aer"
   ]
  },
  {
   "attachments": {},
   "cell_type": "markdown",
   "metadata": {},
   "source": [
    "## 1. Shor’s algorithm"
   ]
  },
  {
   "attachments": {},
   "cell_type": "markdown",
   "metadata": {},
   "source": [
    "We have the unitary,\n",
    "$$\\begin{aligned}\n",
    "& U_{13}|y\\rangle=|13 y \\quad \\bmod 15\\rangle \\quad \\text { for } \\quad y<15, \\\\\n",
    "& U_{13}|15\\rangle=|15\\rangle .\n",
    "\\end{aligned}$$\n",
    "to compute it's eigenvalues and eigenvectors, we use the formula from the lecture\n",
    "$$\\left |u_s\\right\\rangle=\\frac{1}{\\sqrt{r}} \\sum_{h=0}^{r-1} \\exp \\left(\\frac{-2 \\pi i s h}{r}\\right)\\left|x^h(\\bmod N)\\right\\rangle, \\quad 0 \\leq s \\leq r-1$$\n",
    "where $\\left |u_s\\right\\rangle$ is an eigenvector of $U_{x}$ with the eigenvalue,\n",
    "$$\\exp{\\left(\\frac{2 \\pi i s}{r}\\right)}$$\n",
    "Thus, for $x=13$, we have the eigenvalues,\n",
    "$$\\{ \\}$$\n",
    "and their respective eigenvectors\n",
    "$$\\{ \\}$$\n"
   ]
  },
  {
   "attachments": {},
   "cell_type": "markdown",
   "metadata": {},
   "source": [
    "## 2.  Breaking RSA"
   ]
  },
  {
   "attachments": {},
   "cell_type": "markdown",
   "metadata": {},
   "source": [
    "a) We have the key pair,\n",
    "$$\\{e, N\\}=\\{20579,121130231\\}$$\n",
    "We will use Shor's algorithm to factor $N$"
   ]
  }
 ],
 "metadata": {
  "kernelspec": {
   "display_name": "Python 3 (ipykernel)",
   "language": "python",
   "name": "python3"
  },
  "language_info": {
   "codemirror_mode": {
    "name": "ipython",
    "version": 3
   },
   "file_extension": ".py",
   "mimetype": "text/x-python",
   "name": "python",
   "nbconvert_exporter": "python",
   "pygments_lexer": "ipython3",
   "version": "3.9.13"
  }
 },
 "nbformat": 4,
 "nbformat_minor": 2
}
