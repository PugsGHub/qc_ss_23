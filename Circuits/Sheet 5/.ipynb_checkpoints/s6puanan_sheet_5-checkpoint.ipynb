{
 "cells": [
  {
   "cell_type": "markdown",
   "metadata": {},
   "source": [
    "# Exercises for Introduction to Quantum Computing"
   ]
  },
  {
   "cell_type": "markdown",
   "metadata": {},
   "source": [
    "Name: Pugazharasu Anancia Devaneyan (s6puanan) <br />\n",
    "Matriculation number: 3300280"
   ]
  },
  {
   "cell_type": "code",
   "execution_count": 1,
   "metadata": {},
   "outputs": [],
   "source": [
    "import numpy as np\n",
    "import qiskit \n",
    "import qiskit.quantum_info as qi\n",
    "import qiskit.quantum_info as quantu_info\n",
    "from qiskit import IBMQ, Aer\n",
    "from qiskit.providers.ibmq import least_busy\n",
    "from qiskit import QuantumCircuit, transpile, execute\n",
    "import math\n",
    "from qiskit.visualization import plot_histogram\n",
    "from qiskit.circuit.library import QFT\n",
    "from qiskit.providers.aer import Aer"
   ]
  },
  {
   "cell_type": "markdown",
   "metadata": {},
   "source": [
    "## 1. Addition by Quantum Fourier Transform"
   ]
  },
  {
   "cell_type": "markdown",
   "metadata": {},
   "source": [
    "In this exercise sheet we would like to implement a Quantum adder i.e. a Quantum circuit that could add two numbers stored in two quantum registers upto modulo $2^{n}$ where $n$ is the number of Qubits in the Quantum register"
   ]
  },
  {
   "cell_type": "markdown",
   "metadata": {},
   "source": [
    "a) The action of the $R_{j}(y)$ on a qubit $| \\psi \\rangle = |0\\rangle+e^{2 \\pi i x 2^{-j}}|1\\rangle$ is given by,\n",
    "$$R_{j}(y) | \\psi \\rangle = |0\\rangle+e^{2 \\pi i\\left(x 2^{-j}+y 2^{-j}\\right)}|1\\rangle $$\n",
    "This resembles the action of a phase gate and is indeed, a phase rotation gate of the form\n",
    "$$R_{j}(y) = \\begin{pmatrix}\n",
    "1 & 0 \\\\\n",
    "0 & e^{2 \\pi iy.2^{-j}}\n",
    "\\end{pmatrix}$$\n",
    "Such a matrix can be implemented via the $U_{1}(\\lambda)$ gate,\n",
    "$$\n",
    " U_{1}(\\lambda) = \\begin{pmatrix}\n",
    "    1 & o \\\\\n",
    "    0 & e^{i \\lambda}\n",
    " \\end{pmatrix}\n",
    "$$\n",
    "with $\\lambda = \\frac{2 \\pi y}{2^{j}}$"
   ]
  },
  {
   "cell_type": "markdown",
   "metadata": {},
   "source": [
    "b) We are to evaluate\n",
    "$$\n",
    "A(y)=\\mathrm{qFT}^{\\dagger}\\left(R_n(y) R_{n-1}(y) \\ldots R_1(y)\\right) \\mathrm{qFT}\n",
    "$$\n",
    "acting on an $n$-qubit register $|x\\rangle=\\left|x_1 x_2 \\ldots x_n\\right\\rangle$.\n",
    "$$\n",
    "A(y) |x\\rangle = \\mathrm{qFT}^{\\dagger}\\left(R_n(y) R_{n-1}(y) \\ldots R_1(y)\\right) \\mathrm{qFT} |x\\rangle\n",
    "$$\n",
    "Evaluating the action of the $qFT$ on $|x\\rangle$, we get,\n",
    "$$\n",
    "A(y) |x\\rangle = \\frac{1}{2^{\\frac{n}{2}}} \\mathrm{qFT}^{\\dagger}\\left(R_n(y) R_{n-1}(y) \\ldots R_1(y)\\right) \\sum^{2^{n}-1}_{k=0} e^{\\frac{2 \\pi i kx}{2^{n}}} | k \\rangle\n",
    "$$\n",
    "the action of the rotation gates, adds a phase to the exponential,\n",
    "$$\n",
    "A(y) |x\\rangle = \\frac{1}{2^{\\frac{n}{2}}} \\mathrm{qFT}^{\\dagger} \\sum^{2^{n}-1}_{k=0} e^{\\frac{2 \\pi i k(x+y)}{2^{n}}} | k \\rangle\n",
    "$$\n",
    "the inverse-qFT \n",
    "$$\n",
    "A(y) |x\\rangle = \\frac{1}{2^{n}} \\sum^{2^{n}-1}_{k,m=0} e^{\\frac{2 \\pi i k[(x+y)-m]}{2^{n}}} | m \\rangle\n",
    "$$\n",
    "From the theory of discrete-Fourier transforms, we have the identity,\n",
    "$$\n",
    "\\delta_{b,c} = \\frac{1}{N} \\sum^{N}_{j=1} e^{\\frac{2 \\pi i j.(b-c)}{N}}\n",
    "$$\n",
    "where,\n",
    "$$\n",
    "\\delta_{b,c} = \n",
    "\\begin{cases}\n",
    "1 & \\text{if, } b = c \\\\\n",
    "0 & \\text{if, } b \\neq c \\\\\n",
    "\\end{cases}\n",
    "$$\n",
    "Applying this to the previous equation,\n",
    "$$\n",
    "A(y) |x\\rangle = \\sum^{2^{n}-1}_{m=0} \\delta_{x+y,m} |m \\rangle\n",
    "$$\n",
    "thus we have,\n",
    "$$\n",
    "\\begin{align}\n",
    "A(y) |x\\rangle = |x+y \\  (\\text{mod } 2^{n})\\rangle\n",
    "\\end{align}\n",
    "$$"
   ]
  },
  {
   "cell_type": "markdown",
   "metadata": {},
   "source": [
    "c) For the case of $x + y \\geq 2^{n}$, we have\n",
    "$$x+y \\neq m$$\n",
    "as $m$ lies between $0$ and $2^{n}-1$, thus we would have\n",
    "$$A(y) | x \\rangle = 0$$\n",
    "$\\forall x + y \\geq 2^{n}$"
   ]
  },
  {
   "cell_type": "markdown",
   "metadata": {},
   "source": [
    "d) Let's now implement the circuit for the case of 3-Qubits,"
   ]
  },
  {
   "cell_type": "code",
   "execution_count": 2,
   "metadata": {},
   "outputs": [],
   "source": [
    "# Defining the swap function for the action of SWAP gates over all Qubits\n",
    "def swap_registers(circuit, n):\n",
    "    \"\"\"Swaps all the Qubits in the circuit by means of applying appropriate SWAP gates\n",
    "\n",
    "    Args:\n",
    "        circuit (QuantumCircuit): \n",
    "        n (int): Number  of Qubits\n",
    "\n",
    "    Returns:\n",
    "        QuantumCircuit : Returns the swapped circuit\n",
    "    \"\"\"\n",
    "    for qubit in range(n//2):\n",
    "        circuit.swap(qubit, n-qubit-1)\n",
    "    return circuit\n",
    "\n",
    "\n",
    "def A(y,qubits):\n",
    "    \"\"\" Performs an addition of x (stored in the qubits) and y provided x + y < 2^{n} (n = number of Qubits)\n",
    "\n",
    "    Args:\n",
    "        y (int): the integer to be added  to x\n",
    "        qubits (int): number of qubits\n",
    "\n",
    "    Returns:\n",
    "        QuantumCircuit : Returns the Quantum adder circuit\n",
    "    \"\"\"\n",
    "    # Create and set up circuit\n",
    "    qFT_adder = QuantumCircuit(qubits)\n",
    "    qFT_adder = qFT_adder.compose(QFT(qubits, inverse=False), np.arange(0,qubits,1))\n",
    "    swap_registers(qFT_adder,3)\n",
    "    for k in range(qubits):\n",
    "        param = (2*np.pi*y)/(2**(k+1))\n",
    "        qFT_adder.p(param,k)\n",
    "        qFT_adder.barrier()\n",
    "    swap_registers(qFT_adder,3)\n",
    "    qFT_adder = qFT_adder.compose(QFT(qubits, inverse=True), np.arange(0,qubits,1))\n",
    "    return qFT_adder\n",
    "\n",
    "def decrement_gate(qubits):\n",
    "    # Create and set up circuit\n",
    "    dec = QuantumCircuit(qubits)\n",
    "    dec = dec.compose(QFT(qubits, inverse=False), np.arange(0,qubits,1))\n",
    "    for k in range(qubits):\n",
    "        param = (-2*np.pi*y)/(2**(k+1))"
   ]
  },
  {
   "cell_type": "code",
   "execution_count": 3,
   "metadata": {},
   "outputs": [
    {
     "data": {
      "image/png": "[encoded data removed]",
      "text/plain": [
       "<Figure size 1040x284.278 with 1 Axes>"
      ]
     },
     "execution_count": 3,
     "metadata": {},
     "output_type": "execute_result"
    }
   ],
   "source": [
    "A(5,3).draw('mpl')"
   ]
  },
  {
   "cell_type": "code",
   "execution_count": 4,
   "metadata": {},
   "outputs": [],
   "source": [
    "qFT_adder = A(5,3)"
   ]
  },
  {
   "cell_type": "markdown",
   "metadata": {},
   "source": [
    "Now let's check if the circuit gives the outputs we expect"
   ]
  },
  {
   "cell_type": "code",
   "execution_count": 5,
   "metadata": {},
   "outputs": [
    {
     "data": {
      "text/latex": [
       "$$ |101\\rangle$$"
      ],
      "text/plain": [
       "<IPython.core.display.Latex object>"
      ]
     },
     "execution_count": 5,
     "metadata": {},
     "output_type": "execute_result"
    }
   ],
   "source": [
    "state_2 = qi.Statevector.from_label('000') # initialising the state as |101>\n",
    "state_2 = state_2.evolve(qFT_adder)\n",
    "(state_2.draw(output='latex'))"
   ]
  },
  {
   "cell_type": "code",
   "execution_count": 6,
   "metadata": {},
   "outputs": [
    {
     "data": {
      "text/latex": [
       "$$ |010\\rangle$$"
      ],
      "text/plain": [
       "<IPython.core.display.Latex object>"
      ]
     },
     "execution_count": 6,
     "metadata": {},
     "output_type": "execute_result"
    }
   ],
   "source": [
    "state_2 = qi.Statevector.from_label('101') # initialising the state as |101>\n",
    "state_2 = state_2.evolve(qFT_adder)\n",
    "(state_2.draw(output='latex'))"
   ]
  },
  {
   "cell_type": "markdown",
   "metadata": {},
   "source": [
    "We see that indeed we get the expected results. We can thus conclude that we have sucessfully implemented the Quantum adder circuit for the case of 3 Qubits."
   ]
  },
  {
   "cell_type": "markdown",
   "metadata": {},
   "source": [
    "e) We are to compute,\n",
    "$$c A_{y, x}|y\\rangle|x\\rangle=\\mathrm{qFT}_x^{\\dagger}\\left(\\prod_{\\ell_n=1}^n c R_{y_{\\ell_n}} x_n\\left(2^{n-\\ell_n}\\right) \\prod_{\\ell_{n-1}=2}^n c R_{y_{\\ell_{n-1}} x_{n-1}}\\left(2^{n-\\ell_{n-1}}\\right) \\ldots \\prod_{\\ell_1=n}^n c R_{y_{\\ell_1} x_1}\\left(2^{n-\\ell_1}\\right)\\right) \\mathrm{qFT}_x|y\\rangle|x\\rangle$$\n",
    "Let us begin by computing the action of the qFT.\n",
    "$$qFT_{x} |y\\rangle|x\\rangle = \\frac{1}{2^{\\frac{n}{2}}}|y\\rangle \\otimes^{n}_{l=1} | 0 \\rangle + e^{\\frac{2 \\pi i kx}{2^{l}}} | 1 \\rangle$$\n",
    "The product of the controlled rotation gates $\\prod^{n}_{l_{a} = n - a +1} cR_{y_{l_{a}x_{l_{a}}(2^{n-la})}}$ only acts on $| x_{a} \\rangle$, thus it's action on the states after the action of the $qFT_{x}$ reads as:\n",
    "$$\n",
    "\\left(\\prod_{\\ell_n=1}^n c R_{y_{\\ell_n}} x_n\\left(2^{n-\\ell_n}\\right) \\prod_{\\ell_{n-1}=2}^n c R_{y_{\\ell_{n-1}} x_{n-1}}\\left(2^{n-\\ell_{n-1}}\\right) \\ldots \\prod_{\\ell_1=n}^n c R_{y_{\\ell_1} x_1}\\left(2^{n-\\ell_1}\\right)\\right) \\mathrm{qFT}_x|y\\rangle|x\\rangle = \\frac{1}{2^{\\frac{n}{2}}}\\sum^{2^{n}-1}_{k=0} e^{\\frac{2 \\pi i (x+y)k}{2^{n}}} |y\\rangle|k\\rangle\n",
    "$$\n",
    "Now acting on this state with a $qFT^{\\dagger}$ will give us\n",
    "$$\n",
    "c A_{y, x}|y\\rangle|x\\rangle  = \\frac{1}{2^{n}}\\sum^{2^{n}-1}_{k=0} e^{\\frac{2 \\pi i (x+y - m)k}{2^{n}}}|y\\rangle|m\\rangle\n",
    "$$\n",
    "using the same identity we employed for (b), we see that \n",
    "$$\n",
    "c A_{y, x}|y\\rangle|x\\rangle = |y \\rangle |x+y \\  (\\text{mod } 2^{n})\\rangle\n",
    "$$"
   ]
  }
 ],
 "metadata": {
  "kernelspec": {
   "display_name": "Python 3 (ipykernel)",
   "language": "python",
   "name": "python3"
  },
  "language_info": {
   "codemirror_mode": {
    "name": "ipython",
    "version": 3
   },
   "file_extension": ".py",
   "mimetype": "text/x-python",
   "name": "python",
   "nbconvert_exporter": "python",
   "pygments_lexer": "ipython3",
   "version": "3.10.6"
  }
 },
 "nbformat": 4,
 "nbformat_minor": 2
}
