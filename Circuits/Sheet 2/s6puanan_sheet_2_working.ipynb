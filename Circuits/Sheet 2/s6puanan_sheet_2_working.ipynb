{
 "cells": [
  {
   "attachments": {},
   "cell_type": "markdown",
   "metadata": {},
   "source": [
    "# Exercises for Introduction to Quantum Computing"
   ]
  },
  {
   "attachments": {},
   "cell_type": "markdown",
   "metadata": {},
   "source": [
    "Name: Pugazharasu Anancia Devaneyan (s6puanan) <br />\n",
    "Matriculation number: 3300280"
   ]
  },
  {
   "cell_type": "code",
   "execution_count": 1,
   "metadata": {},
   "outputs": [],
   "source": [
    "import numpy as np\n",
    "import qiskit as qi\n",
    "from qiskit import IBMQ, Aer\n",
    "from qiskit.providers.ibmq import least_busy\n",
    "from qiskit import QuantumCircuit, transpile\n",
    "\n",
    "from qiskit.visualization import plot_histogram"
   ]
  },
  {
   "attachments": {},
   "cell_type": "markdown",
   "metadata": {},
   "source": [
    "## 1. Quantum Fourier Transform"
   ]
  },
  {
   "attachments": {},
   "cell_type": "markdown",
   "metadata": {},
   "source": [
    "The quantum Fourier transform operation acting on a state is a unitary operation, thus for\n",
    "$$\\mathrm{qFT}^{\\dagger}|\\phi\\rangle=|100\\rangle$$\n",
    "we simply act with a qFT on both sides of the equation to get,\n",
    "$$|\\phi\\rangle =\\mathrm{qFT}|100\\rangle$$\n",
    "Thus, to obtain the state, we simply need to evaluate the RHS. This can be done as the qFT in the computational basis is expressed as,\n",
    "$$\\mathrm{qFT}|j\\rangle=\\frac{1}{\\sqrt{8}} \\sum_{k=0}^7 e^{2 \\pi i \\frac{j k}{8}}|k\\rangle$$"
   ]
  },
  {
   "attachments": {},
   "cell_type": "markdown",
   "metadata": {},
   "source": [
    "Therefore, we have\n",
    "$$|\\phi\\rangle = \\frac{1}{\\sqrt(8)}\\left(|000\\rangle-|001\\rangle+|010\\rangle-|011\\rangle+|100\\rangle-|101\\rangle+|110\\rangle-|111\\rangle \\right)$$\n",
    "The probability of measuring the output 100 from the state $|\\phi\\rangle$ is given by computing the inner product of $|\\phi\\rangle$ with $|100\\rangle$,\n",
    "$$ \\langle 100 |\\phi\\rangle = {\\left(\\frac{1}{\\sqrt{8}}\\right)}^{2} = \\frac{1}{8}$$"
   ]
  },
  {
   "attachments": {},
   "cell_type": "markdown",
   "metadata": {},
   "source": [
    "The inverse qFT circuit can be implemented by simply reversing the order of unitaries and inverting the angles of the phase gates applied i.e. $R_{h} \\rightarrow R^{-1}_{h}$, thus for the 3-qubit case (excluding swaps) we have:"
   ]
  },
  {
   "cell_type": "code",
   "execution_count": 42,
   "metadata": {},
   "outputs": [
    {
     "data": {
      "image/png": "[encoded data removed]",
      "text/plain": [
       "<Figure size 872.774x284.278 with 1 Axes>"
      ]
     },
     "execution_count": 42,
     "metadata": {},
     "output_type": "execute_result"
    }
   ],
   "source": [
    "inv_qFT = QuantumCircuit(3)\n",
    "inv_qFT.h(2)\n",
    "inv_qFT.cp(-np.pi/2, 2, 1)\n",
    "inv_qFT.h(1)\n",
    "inv_qFT.cp(-np.pi/4, 2, 0)\n",
    "inv_qFT.cp(-np.pi/2, 1, 0)\n",
    "inv_qFT.h(0)\n",
    "inv_qFT.draw('mpl')"
   ]
  },
  {
   "cell_type": "code",
   "execution_count": 21,
   "metadata": {},
   "outputs": [],
   "source": [
    "def qft_rotations(circuit, n):\n",
    "    \"\"\"Performs qft on the first n qubits in circuit (without swaps)\"\"\"\n",
    "    if n == 0:\n",
    "        return circuit\n",
    "    n -= 1\n",
    "    circuit.h(n)\n",
    "    for qubit in range(n):\n",
    "        circuit.cp(np.pi/2**(n-qubit), qubit, n)\n",
    "    # At the end of our function, we call the same function again on\n",
    "    # the next qubits (we reduced n by one earlier in the function)\n",
    "    qft_rotations(circuit, n)"
   ]
  },
  {
   "cell_type": "code",
   "execution_count": 23,
   "metadata": {},
   "outputs": [
    {
     "data": {
      "image/png": "[encoded data removed]",
      "text/plain": [
       "<Figure size 956.385x284.278 with 1 Axes>"
      ]
     },
     "execution_count": 23,
     "metadata": {},
     "output_type": "execute_result"
    }
   ],
   "source": [
    "def swap_registers(circuit, n):\n",
    "    for qubit in range(n//2):\n",
    "        circuit.swap(qubit, n-qubit-1)\n",
    "    return circuit\n",
    "\n",
    "def qft(circuit, n):\n",
    "    \"\"\"QFT on the first n qubits in circuit\"\"\"\n",
    "    qft_rotations(circuit, n)\n",
    "    swap_registers(circuit, n)\n",
    "    return circuit\n",
    "\n",
    "# Let's see how it looks:\n",
    "qc = QuantumCircuit(3)\n",
    "qft(qc,3)\n",
    "qc.draw('mpl')"
   ]
  },
  {
   "cell_type": "code",
   "execution_count": 26,
   "metadata": {},
   "outputs": [
    {
     "data": {
      "text/latex": [
       "$$ |001\\rangle$$"
      ],
      "text/plain": [
       "<IPython.core.display.Latex object>"
      ]
     },
     "execution_count": 26,
     "metadata": {},
     "output_type": "execute_result"
    }
   ],
   "source": [
    "state = qi.quantum_info.Statevector.from_label('001')\n",
    "state.draw(output='latex')"
   ]
  },
  {
   "cell_type": "code",
   "execution_count": 28,
   "metadata": {},
   "outputs": [
    {
     "data": {
      "text/latex": [
       "$$\\frac{\\sqrt{2}}{4} |000\\rangle+(- \\frac{1}{4} - \\frac{i}{4}) |001\\rangle+\\frac{\\sqrt{2} i}{4} |010\\rangle+(\\frac{1}{4} - \\frac{i}{4}) |011\\rangle- \\frac{\\sqrt{2}}{4} |100\\rangle+(\\frac{1}{4} + \\frac{i}{4}) |101\\rangle- \\frac{\\sqrt{2} i}{4} |110\\rangle+(- \\frac{1}{4} + \\frac{i}{4}) |111\\rangle$$"
      ],
      "text/plain": [
       "<IPython.core.display.Latex object>"
      ]
     },
     "execution_count": 28,
     "metadata": {},
     "output_type": "execute_result"
    }
   ],
   "source": [
    "state = state.evolve(qc)\n",
    "state.draw(output='latex')"
   ]
  },
  {
   "attachments": {},
   "cell_type": "markdown",
   "metadata": {},
   "source": [
    "## 2. Deutsch–Jozsa algorithm"
   ]
  },
  {
   "attachments": {},
   "cell_type": "markdown",
   "metadata": {},
   "source": [
    "We wish to implement an Oracle $U_f$ with the action\n",
    "$$U_{f} | q_{0} q_{1} q_{2} \\rangle = |q_{0}q_{1}(q_{2} \\oplus f(q_{0},q_{1})) \\rangle$$\n",
    "This is given to us via the quantum circuit,"
   ]
  },
  {
   "cell_type": "code",
   "execution_count": 2,
   "metadata": {},
   "outputs": [
    {
     "data": {
      "image/png": "[encoded data removed]",
      "text/plain": [
       "<Figure size 454.719x284.278 with 1 Axes>"
      ]
     },
     "execution_count": 2,
     "metadata": {},
     "output_type": "execute_result"
    }
   ],
   "source": [
    "oracle = QuantumCircuit(3)\n",
    "oracle.h(0)\n",
    "oracle.h(2)\n",
    "oracle.cx(2,0)\n",
    "oracle.h(0)\n",
    "oracle.cz(2,1)\n",
    "oracle.h(2)\n",
    "oracle.draw('mpl')"
   ]
  },
  {
   "attachments": {},
   "cell_type": "markdown",
   "metadata": {},
   "source": [
    "We can check if this does indeed implement the Oracle we desire by means of applying it to an arbitary state,"
   ]
  },
  {
   "cell_type": "code",
   "execution_count": 3,
   "metadata": {},
   "outputs": [
    {
     "data": {
      "text/latex": [
       "$$ |101\\rangle$$"
      ],
      "text/plain": [
       "<IPython.core.display.Latex object>"
      ]
     },
     "execution_count": 3,
     "metadata": {},
     "output_type": "execute_result"
    }
   ],
   "source": [
    "state = qi.quantum_info.Statevector.from_label('001')\n",
    "state = state.evolve(oracle)\n",
    "state.draw(output='latex')"
   ]
  },
  {
   "attachments": {},
   "cell_type": "markdown",
   "metadata": {},
   "source": [
    "Now that we have shown that the quantum circuit implements an Oracle, we can check if the Oracle is balanced or constant by means of implementing a truth table for it,\n",
    "<center>\n",
    "\n",
    "| $ q_0 q_1 q_2 $ | $U_f$ |\n",
    "| - | - |\n",
    "| 000 | 000 |\n",
    "| 001 | 100 |\n",
    "| 010 | 011 |\n",
    "| 011 | 010 |\n",
    "| 100 | 101 |\n",
    "| 101 | 100 |\n",
    "| 110 | 110 |\n",
    "| 111 | 111 |\n",
    "\n",
    "</center>\n",
    "\n",
    "We can see that the Oracle is balanced! We shall now construct the Deutsch Josza algorithm using Qiskit,"
   ]
  },
  {
   "cell_type": "code",
   "execution_count": 21,
   "metadata": {},
   "outputs": [
    {
     "data": {
      "image/png": "[encoded data removed]",
      "text/plain": [
       "<Figure size 1123.61x367.889 with 1 Axes>"
      ]
     },
     "execution_count": 21,
     "metadata": {},
     "output_type": "execute_result"
    }
   ],
   "source": [
    "deutsch_algo = QuantumCircuit(3,3)\n",
    "deutsch_algo.h(0)\n",
    "deutsch_algo.h(1)\n",
    "deutsch_algo.h(2)\n",
    "deutsch_algo.barrier()\n",
    "deutsch_algo = deutsch_algo.compose(oracle)\n",
    "deutsch_algo.barrier()\n",
    "deutsch_algo.h(0)\n",
    "deutsch_algo.h(1)\n",
    "deutsch_algo.barrier()\n",
    "deutsch_algo.measure(0, 0)\n",
    "deutsch_algo.measure(1, 1)\n",
    "deutsch_algo.measure(2, 2) \n",
    "deutsch_algo.draw('mpl')"
   ]
  },
  {
   "attachments": {},
   "cell_type": "markdown",
   "metadata": {},
   "source": [
    "We can now check using the circuit if the function is balanced or not by means of running it on a QASM simulator,"
   ]
  },
  {
   "cell_type": "code",
   "execution_count": 22,
   "metadata": {},
   "outputs": [
    {
     "name": "stdout",
     "output_type": "stream",
     "text": [
      "{'000': 495, '100': 529}\n"
     ]
    }
   ],
   "source": [
    "backend = qi.Aer.get_backend('qasm_simulator')\n",
    "job = qi.execute(deutsch_algo, backend, shots = 1024)\n",
    "results = job.result()\n",
    "counts = results.get_counts(deutsch_algo)\n",
    "print(counts)"
   ]
  },
  {
   "attachments": {},
   "cell_type": "markdown",
   "metadata": {},
   "source": [
    "We can see that the function is balanced as shown above, thus the circuit implements the Deutsch Josza algorithm."
   ]
  }
 ],
 "metadata": {
  "kernelspec": {
   "display_name": "base",
   "language": "python",
   "name": "python3"
  },
  "language_info": {
   "codemirror_mode": {
    "name": "ipython",
    "version": 3
   },
   "file_extension": ".py",
   "mimetype": "text/x-python",
   "name": "python",
   "nbconvert_exporter": "python",
   "pygments_lexer": "ipython3",
   "version": "3.9.13"
  },
  "orig_nbformat": 4
 },
 "nbformat": 4,
 "nbformat_minor": 2
}
